{
 "cells": [
  {
   "cell_type": "markdown",
   "metadata": {},
   "source": [
    "### Ceilin Joel Carcamo Vasquez - 20201000429\n",
    "### Saul Eduardo Torres Vega - 20201004758"
   ]
  },
  {
   "cell_type": "markdown",
   "metadata": {},
   "source": [
    "# Importación de librerias"
   ]
  },
  {
   "cell_type": "code",
   "execution_count": 77,
   "metadata": {},
   "outputs": [],
   "source": [
    "import pandas as pd\n",
    "import numpy as np\n",
    "import matplotlib.pyplot as plt\n",
    "\n",
    "from scipy.stats import truncnorm"
   ]
  },
  {
   "cell_type": "markdown",
   "metadata": {},
   "source": [
    "# Lectura del DataSet"
   ]
  },
  {
   "cell_type": "code",
   "execution_count": 78,
   "metadata": {},
   "outputs": [],
   "source": [
    "df = pd.read_csv(\"StudentsPerformance.csv\")"
   ]
  },
  {
   "cell_type": "markdown",
   "metadata": {},
   "source": [
    "# Número de filas y columnas de DataSet"
   ]
  },
  {
   "cell_type": "code",
   "execution_count": 79,
   "metadata": {},
   "outputs": [
    {
     "data": {
      "text/plain": [
       "(1000, 7)"
      ]
     },
     "execution_count": 79,
     "metadata": {},
     "output_type": "execute_result"
    }
   ],
   "source": [
    "df.shape"
   ]
  },
  {
   "cell_type": "markdown",
   "metadata": {},
   "source": [
    "# DataSet con sus caracteristicas principales"
   ]
  },
  {
   "cell_type": "code",
   "execution_count": 81,
   "metadata": {},
   "outputs": [
    {
     "data": {
      "text/html": [
       "<div>\n",
       "<style scoped>\n",
       "    .dataframe tbody tr th:only-of-type {\n",
       "        vertical-align: middle;\n",
       "    }\n",
       "\n",
       "    .dataframe tbody tr th {\n",
       "        vertical-align: top;\n",
       "    }\n",
       "\n",
       "    .dataframe thead th {\n",
       "        text-align: right;\n",
       "    }\n",
       "</style>\n",
       "<table border=\"1\" class=\"dataframe\">\n",
       "  <thead>\n",
       "    <tr style=\"text-align: right;\">\n",
       "      <th></th>\n",
       "      <th>gender</th>\n",
       "      <th>race/ethnicity</th>\n",
       "      <th>lunch</th>\n",
       "      <th>test preparation course</th>\n",
       "      <th>math score</th>\n",
       "      <th>reading score</th>\n",
       "      <th>writing score</th>\n",
       "    </tr>\n",
       "  </thead>\n",
       "  <tbody>\n",
       "    <tr>\n",
       "      <th>0</th>\n",
       "      <td>female</td>\n",
       "      <td>group B</td>\n",
       "      <td>standard</td>\n",
       "      <td>none</td>\n",
       "      <td>72</td>\n",
       "      <td>72</td>\n",
       "      <td>74</td>\n",
       "    </tr>\n",
       "    <tr>\n",
       "      <th>1</th>\n",
       "      <td>female</td>\n",
       "      <td>group C</td>\n",
       "      <td>standard</td>\n",
       "      <td>completed</td>\n",
       "      <td>69</td>\n",
       "      <td>90</td>\n",
       "      <td>88</td>\n",
       "    </tr>\n",
       "    <tr>\n",
       "      <th>2</th>\n",
       "      <td>female</td>\n",
       "      <td>group B</td>\n",
       "      <td>standard</td>\n",
       "      <td>none</td>\n",
       "      <td>90</td>\n",
       "      <td>95</td>\n",
       "      <td>93</td>\n",
       "    </tr>\n",
       "    <tr>\n",
       "      <th>3</th>\n",
       "      <td>male</td>\n",
       "      <td>group A</td>\n",
       "      <td>free/reduced</td>\n",
       "      <td>none</td>\n",
       "      <td>47</td>\n",
       "      <td>57</td>\n",
       "      <td>44</td>\n",
       "    </tr>\n",
       "    <tr>\n",
       "      <th>4</th>\n",
       "      <td>male</td>\n",
       "      <td>group C</td>\n",
       "      <td>standard</td>\n",
       "      <td>none</td>\n",
       "      <td>76</td>\n",
       "      <td>78</td>\n",
       "      <td>75</td>\n",
       "    </tr>\n",
       "    <tr>\n",
       "      <th>...</th>\n",
       "      <td>...</td>\n",
       "      <td>...</td>\n",
       "      <td>...</td>\n",
       "      <td>...</td>\n",
       "      <td>...</td>\n",
       "      <td>...</td>\n",
       "      <td>...</td>\n",
       "    </tr>\n",
       "    <tr>\n",
       "      <th>995</th>\n",
       "      <td>female</td>\n",
       "      <td>group E</td>\n",
       "      <td>standard</td>\n",
       "      <td>completed</td>\n",
       "      <td>88</td>\n",
       "      <td>99</td>\n",
       "      <td>95</td>\n",
       "    </tr>\n",
       "    <tr>\n",
       "      <th>996</th>\n",
       "      <td>male</td>\n",
       "      <td>group C</td>\n",
       "      <td>free/reduced</td>\n",
       "      <td>none</td>\n",
       "      <td>62</td>\n",
       "      <td>55</td>\n",
       "      <td>55</td>\n",
       "    </tr>\n",
       "    <tr>\n",
       "      <th>997</th>\n",
       "      <td>female</td>\n",
       "      <td>group C</td>\n",
       "      <td>free/reduced</td>\n",
       "      <td>completed</td>\n",
       "      <td>59</td>\n",
       "      <td>71</td>\n",
       "      <td>65</td>\n",
       "    </tr>\n",
       "    <tr>\n",
       "      <th>998</th>\n",
       "      <td>female</td>\n",
       "      <td>group D</td>\n",
       "      <td>standard</td>\n",
       "      <td>completed</td>\n",
       "      <td>68</td>\n",
       "      <td>78</td>\n",
       "      <td>77</td>\n",
       "    </tr>\n",
       "    <tr>\n",
       "      <th>999</th>\n",
       "      <td>female</td>\n",
       "      <td>group D</td>\n",
       "      <td>free/reduced</td>\n",
       "      <td>none</td>\n",
       "      <td>77</td>\n",
       "      <td>86</td>\n",
       "      <td>86</td>\n",
       "    </tr>\n",
       "  </tbody>\n",
       "</table>\n",
       "<p>1000 rows × 7 columns</p>\n",
       "</div>"
      ],
      "text/plain": [
       "     gender race/ethnicity         lunch test preparation course  math score  \\\n",
       "0    female        group B      standard                    none          72   \n",
       "1    female        group C      standard               completed          69   \n",
       "2    female        group B      standard                    none          90   \n",
       "3      male        group A  free/reduced                    none          47   \n",
       "4      male        group C      standard                    none          76   \n",
       "..      ...            ...           ...                     ...         ...   \n",
       "995  female        group E      standard               completed          88   \n",
       "996    male        group C  free/reduced                    none          62   \n",
       "997  female        group C  free/reduced               completed          59   \n",
       "998  female        group D      standard               completed          68   \n",
       "999  female        group D  free/reduced                    none          77   \n",
       "\n",
       "     reading score  writing score  \n",
       "0               72             74  \n",
       "1               90             88  \n",
       "2               95             93  \n",
       "3               57             44  \n",
       "4               78             75  \n",
       "..             ...            ...  \n",
       "995             99             95  \n",
       "996             55             55  \n",
       "997             71             65  \n",
       "998             78             77  \n",
       "999             86             86  \n",
       "\n",
       "[1000 rows x 7 columns]"
      ]
     },
     "execution_count": 81,
     "metadata": {},
     "output_type": "execute_result"
    }
   ],
   "source": [
    "df"
   ]
  },
  {
   "cell_type": "markdown",
   "metadata": {},
   "source": [
    "# Análisis de columnas y tipos de datos"
   ]
  },
  {
   "cell_type": "code",
   "execution_count": 82,
   "metadata": {},
   "outputs": [
    {
     "data": {
      "text/plain": [
       "gender                     object\n",
       "race/ethnicity             object\n",
       "lunch                      object\n",
       "test preparation course    object\n",
       "math score                  int64\n",
       "reading score               int64\n",
       "writing score               int64\n",
       "dtype: object"
      ]
     },
     "execution_count": 82,
     "metadata": {},
     "output_type": "execute_result"
    }
   ],
   "source": [
    "df.dtypes"
   ]
  },
  {
   "cell_type": "markdown",
   "metadata": {},
   "source": [
    "# Renombrar columnas"
   ]
  },
  {
   "cell_type": "code",
   "execution_count": 83,
   "metadata": {},
   "outputs": [],
   "source": [
    "df.columns = ['gender', 'race', 'lunch', 'testPreparation',\n",
    "       'mathScore', 'readingScore', 'writingScore']"
   ]
  },
  {
   "cell_type": "code",
   "execution_count": 84,
   "metadata": {},
   "outputs": [
    {
     "data": {
      "text/html": [
       "<div>\n",
       "<style scoped>\n",
       "    .dataframe tbody tr th:only-of-type {\n",
       "        vertical-align: middle;\n",
       "    }\n",
       "\n",
       "    .dataframe tbody tr th {\n",
       "        vertical-align: top;\n",
       "    }\n",
       "\n",
       "    .dataframe thead th {\n",
       "        text-align: right;\n",
       "    }\n",
       "</style>\n",
       "<table border=\"1\" class=\"dataframe\">\n",
       "  <thead>\n",
       "    <tr style=\"text-align: right;\">\n",
       "      <th></th>\n",
       "      <th>gender</th>\n",
       "      <th>race</th>\n",
       "      <th>lunch</th>\n",
       "      <th>testPreparation</th>\n",
       "      <th>mathScore</th>\n",
       "      <th>readingScore</th>\n",
       "      <th>writingScore</th>\n",
       "    </tr>\n",
       "  </thead>\n",
       "  <tbody>\n",
       "  </tbody>\n",
       "</table>\n",
       "</div>"
      ],
      "text/plain": [
       "Empty DataFrame\n",
       "Columns: [gender, race, lunch, testPreparation, mathScore, readingScore, writingScore]\n",
       "Index: []"
      ]
     },
     "execution_count": 84,
     "metadata": {},
     "output_type": "execute_result"
    }
   ],
   "source": [
    "df.head(0)"
   ]
  },
  {
   "cell_type": "markdown",
   "metadata": {},
   "source": [
    "# Obtencion de las columnas categoricas y numericas en una lista separada"
   ]
  },
  {
   "cell_type": "code",
   "execution_count": 85,
   "metadata": {},
   "outputs": [],
   "source": [
    "cat_cols = []\n",
    "for c in df.columns:\n",
    "    if df[c].dtype == 'object':\n",
    "        cat_cols.append(c)\n",
    "\n",
    "num_cols = []\n",
    "for p in df.columns:\n",
    "    if df[p].dtype == 'int64' or df[p].dtype == 'float64':\n",
    "        num_cols.append(p)"
   ]
  },
  {
   "cell_type": "code",
   "execution_count": 87,
   "metadata": {},
   "outputs": [
    {
     "data": {
      "text/plain": [
       "['gender', 'race', 'lunch', 'testPreparation']"
      ]
     },
     "execution_count": 87,
     "metadata": {},
     "output_type": "execute_result"
    }
   ],
   "source": [
    "#Columnas categoricas\n",
    "cat_cols"
   ]
  },
  {
   "cell_type": "code",
   "execution_count": 88,
   "metadata": {},
   "outputs": [
    {
     "data": {
      "text/plain": [
       "['mathScore', 'readingScore', 'writingScore']"
      ]
     },
     "execution_count": 88,
     "metadata": {},
     "output_type": "execute_result"
    }
   ],
   "source": [
    "#Columnas númericas\n",
    "num_cols"
   ]
  },
  {
   "cell_type": "markdown",
   "metadata": {},
   "source": [
    "# Descripcion de las columnas númericas"
   ]
  },
  {
   "cell_type": "code",
   "execution_count": 89,
   "metadata": {},
   "outputs": [
    {
     "data": {
      "text/html": [
       "<div>\n",
       "<style scoped>\n",
       "    .dataframe tbody tr th:only-of-type {\n",
       "        vertical-align: middle;\n",
       "    }\n",
       "\n",
       "    .dataframe tbody tr th {\n",
       "        vertical-align: top;\n",
       "    }\n",
       "\n",
       "    .dataframe thead th {\n",
       "        text-align: right;\n",
       "    }\n",
       "</style>\n",
       "<table border=\"1\" class=\"dataframe\">\n",
       "  <thead>\n",
       "    <tr style=\"text-align: right;\">\n",
       "      <th></th>\n",
       "      <th>mathScore</th>\n",
       "      <th>readingScore</th>\n",
       "      <th>writingScore</th>\n",
       "    </tr>\n",
       "  </thead>\n",
       "  <tbody>\n",
       "    <tr>\n",
       "      <th>count</th>\n",
       "      <td>1000.00000</td>\n",
       "      <td>1000.000000</td>\n",
       "      <td>1000.000000</td>\n",
       "    </tr>\n",
       "    <tr>\n",
       "      <th>mean</th>\n",
       "      <td>66.08900</td>\n",
       "      <td>69.169000</td>\n",
       "      <td>68.054000</td>\n",
       "    </tr>\n",
       "    <tr>\n",
       "      <th>std</th>\n",
       "      <td>15.16308</td>\n",
       "      <td>14.600192</td>\n",
       "      <td>15.195657</td>\n",
       "    </tr>\n",
       "    <tr>\n",
       "      <th>min</th>\n",
       "      <td>0.00000</td>\n",
       "      <td>17.000000</td>\n",
       "      <td>10.000000</td>\n",
       "    </tr>\n",
       "    <tr>\n",
       "      <th>25%</th>\n",
       "      <td>57.00000</td>\n",
       "      <td>59.000000</td>\n",
       "      <td>57.750000</td>\n",
       "    </tr>\n",
       "    <tr>\n",
       "      <th>50%</th>\n",
       "      <td>66.00000</td>\n",
       "      <td>70.000000</td>\n",
       "      <td>69.000000</td>\n",
       "    </tr>\n",
       "    <tr>\n",
       "      <th>75%</th>\n",
       "      <td>77.00000</td>\n",
       "      <td>79.000000</td>\n",
       "      <td>79.000000</td>\n",
       "    </tr>\n",
       "    <tr>\n",
       "      <th>max</th>\n",
       "      <td>100.00000</td>\n",
       "      <td>100.000000</td>\n",
       "      <td>100.000000</td>\n",
       "    </tr>\n",
       "  </tbody>\n",
       "</table>\n",
       "</div>"
      ],
      "text/plain": [
       "        mathScore  readingScore  writingScore\n",
       "count  1000.00000   1000.000000   1000.000000\n",
       "mean     66.08900     69.169000     68.054000\n",
       "std      15.16308     14.600192     15.195657\n",
       "min       0.00000     17.000000     10.000000\n",
       "25%      57.00000     59.000000     57.750000\n",
       "50%      66.00000     70.000000     69.000000\n",
       "75%      77.00000     79.000000     79.000000\n",
       "max     100.00000    100.000000    100.000000"
      ]
     },
     "execution_count": 89,
     "metadata": {},
     "output_type": "execute_result"
    }
   ],
   "source": [
    "df[num_cols].describe()"
   ]
  },
  {
   "cell_type": "markdown",
   "metadata": {},
   "source": [
    "# Histogramas de las variables numericas"
   ]
  },
  {
   "cell_type": "code",
   "execution_count": 90,
   "metadata": {},
   "outputs": [
    {
     "data": {
      "image/png": "[encoded data removed]",
      "text/plain": [
       "<Figure size 640x480 with 1 Axes>"
      ]
     },
     "metadata": {},
     "output_type": "display_data"
    },
    {
     "data": {
      "image/png": "[encoded data removed]",
      "text/plain": [
       "<Figure size 640x480 with 1 Axes>"
      ]
     },
     "metadata": {},
     "output_type": "display_data"
    },
    {
     "data": {
      "image/png": "[encoded data removed]",
      "text/plain": [
       "<Figure size 640x480 with 1 Axes>"
      ]
     },
     "metadata": {},
     "output_type": "display_data"
    }
   ],
   "source": [
    "for c in num_cols:\n",
    "    df.loc[:,[c]].hist()\n",
    "    plt.show()"
   ]
  },
  {
   "cell_type": "markdown",
   "metadata": {},
   "source": [
    "# Boxplot de las variables númericas"
   ]
  },
  {
   "cell_type": "code",
   "execution_count": 16,
   "metadata": {},
   "outputs": [
    {
     "data": {
      "image/png": "[encoded data removed]",
      "text/plain": [
       "<Figure size 640x480 with 1 Axes>"
      ]
     },
     "metadata": {},
     "output_type": "display_data"
    },
    {
     "data": {
      "image/png": "[encoded data removed]",
      "text/plain": [
       "<Figure size 640x480 with 1 Axes>"
      ]
     },
     "metadata": {},
     "output_type": "display_data"
    },
    {
     "data": {
      "image/png": "[encoded data removed]",
      "text/plain": [
       "<Figure size 640x480 with 1 Axes>"
      ]
     },
     "metadata": {},
     "output_type": "display_data"
    }
   ],
   "source": [
    "for c in num_cols:\n",
    "    df.loc[:,[c]].boxplot()\n",
    "    plt.show()"
   ]
  },
  {
   "cell_type": "markdown",
   "metadata": {},
   "source": [
    "# Corte categorico #1"
   ]
  },
  {
   "cell_type": "markdown",
   "metadata": {},
   "source": [
    "## Seleccion de columnas categorícas 'gender', 'race', 'testPreparation' con respecto a la columna númerica 'mathScore'"
   ]
  },
  {
   "cell_type": "markdown",
   "metadata": {},
   "source": [
    "Los siguientes dos ejemplos son un boxplot de un corte categorico para un grupo especifico de personas, basandonos en su genero, el grupo al que pertenecen y si se prepararon antes del examen o no, y nos interesa conocer sobre sus resultados en el examen de matematicas.\n",
    "En el primer ejemplo podemos observar que hay valores atipicos tanto arriba del limite superior como abajo del limite inferior.\n",
    "En el segundo ejemplo, podemos observar que solo existen valores atipicos abajo del limite inferior.\n",
    "Esperamos que con la limpieza se eliminen la mayoria de estos valores."
   ]
  },
  {
   "cell_type": "code",
   "execution_count": 17,
   "metadata": {},
   "outputs": [
    {
     "data": {
      "image/png": "[encoded data removed]",
      "text/plain": [
       "<Figure size 640x480 with 1 Axes>"
      ]
     },
     "metadata": {},
     "output_type": "display_data"
    }
   ],
   "source": [
    "df.loc[(df[\"gender\"]=='male')\n",
    "       & (df[\"race\"]=='group A')\n",
    "       & (df['testPreparation']=='none'),[\"mathScore\"]].boxplot()\n",
    "plt.show()"
   ]
  },
  {
   "cell_type": "markdown",
   "metadata": {},
   "source": [
    "# Corte categorico #2"
   ]
  },
  {
   "cell_type": "markdown",
   "metadata": {},
   "source": [
    "## Seleccion de columnas categorícas 'gender', 'race', 'testPreparation' con respecto a la columna númerica 'mathScore'"
   ]
  },
  {
   "cell_type": "code",
   "execution_count": 18,
   "metadata": {},
   "outputs": [
    {
     "data": {
      "image/png": "[encoded data removed]",
      "text/plain": [
       "<Figure size 640x480 with 1 Axes>"
      ]
     },
     "metadata": {},
     "output_type": "display_data"
    }
   ],
   "source": [
    "df.loc[(df[\"gender\"]=='female')\n",
    "       & (df[\"race\"]=='group B')\n",
    "       & (df['testPreparation']=='none'),[\"mathScore\"]].boxplot()\n",
    "plt.show()"
   ]
  },
  {
   "cell_type": "markdown",
   "metadata": {},
   "source": [
    "El siguiente bloque de codigo seria el calculo del limite inferior y limite superior. Utilizamos funciones lambda para ello, en este caso el x sera una Serie de Pandas, con todos los valores de las columnas numericas dentro de las columnas categoricas y sus combinaciones."
   ]
  },
  {
   "cell_type": "code",
   "execution_count": 19,
   "metadata": {},
   "outputs": [],
   "source": [
    "transformations = {}\n",
    "new_cols = []\n",
    "for c in num_cols:\n",
    "    transformations[c] = [\n",
    "        ( \"lower_bound\" , lambda x: x.quantile(.25) - 1.5*(x.quantile(.75) - x.quantile(.25))  ),\n",
    "        ( \"upper_bound\" , lambda x: x.quantile(.75) + 1.5*(x.quantile(.75) - x.quantile(.25))  )\n",
    "    ]\n",
    "    new_cols.append(f\"{c}_lower_bound\")\n",
    "    new_cols.append(f\"{c}_upper_bound\")"
   ]
  },
  {
   "cell_type": "markdown",
   "metadata": {},
   "source": [
    "Ahora df_resultados sera un dataframe que va a agrupar segun las categorias de nuestro dataset. Agregara el diccionario transformations de arriba, y junto con este ira la funcion lambda, la cual se ejecutara sobre el groupby, obteniendo los limites por cada grupo de las combinaciones de las categorias."
   ]
  },
  {
   "cell_type": "code",
   "execution_count": 76,
   "metadata": {},
   "outputs": [
    {
     "data": {
      "text/html": [
       "<div>\n",
       "<style scoped>\n",
       "    .dataframe tbody tr th:only-of-type {\n",
       "        vertical-align: middle;\n",
       "    }\n",
       "\n",
       "    .dataframe tbody tr th {\n",
       "        vertical-align: top;\n",
       "    }\n",
       "\n",
       "    .dataframe thead th {\n",
       "        text-align: right;\n",
       "    }\n",
       "</style>\n",
       "<table border=\"1\" class=\"dataframe\">\n",
       "  <thead>\n",
       "    <tr style=\"text-align: right;\">\n",
       "      <th></th>\n",
       "      <th>gender</th>\n",
       "      <th>race</th>\n",
       "      <th>lunch</th>\n",
       "      <th>testPreparation</th>\n",
       "      <th>mathScore_lower_bound</th>\n",
       "      <th>mathScore_upper_bound</th>\n",
       "      <th>readingScore_lower_bound</th>\n",
       "      <th>readingScore_upper_bound</th>\n",
       "      <th>writingScore_lower_bound</th>\n",
       "      <th>writingScore_upper_bound</th>\n",
       "    </tr>\n",
       "  </thead>\n",
       "  <tbody>\n",
       "    <tr>\n",
       "      <th>0</th>\n",
       "      <td>female</td>\n",
       "      <td>group A</td>\n",
       "      <td>free/reduced</td>\n",
       "      <td>completed</td>\n",
       "      <td>11.25</td>\n",
       "      <td>97.25</td>\n",
       "      <td>19.0</td>\n",
       "      <td>99.0</td>\n",
       "      <td>17.50</td>\n",
       "      <td>105.50</td>\n",
       "    </tr>\n",
       "    <tr>\n",
       "      <th>1</th>\n",
       "      <td>female</td>\n",
       "      <td>group A</td>\n",
       "      <td>free/reduced</td>\n",
       "      <td>none</td>\n",
       "      <td>24.50</td>\n",
       "      <td>72.50</td>\n",
       "      <td>36.0</td>\n",
       "      <td>84.0</td>\n",
       "      <td>27.25</td>\n",
       "      <td>85.25</td>\n",
       "    </tr>\n",
       "    <tr>\n",
       "      <th>2</th>\n",
       "      <td>female</td>\n",
       "      <td>group A</td>\n",
       "      <td>standard</td>\n",
       "      <td>completed</td>\n",
       "      <td>45.50</td>\n",
       "      <td>97.50</td>\n",
       "      <td>67.0</td>\n",
       "      <td>99.0</td>\n",
       "      <td>53.50</td>\n",
       "      <td>113.50</td>\n",
       "    </tr>\n",
       "    <tr>\n",
       "      <th>3</th>\n",
       "      <td>female</td>\n",
       "      <td>group A</td>\n",
       "      <td>standard</td>\n",
       "      <td>none</td>\n",
       "      <td>36.00</td>\n",
       "      <td>76.00</td>\n",
       "      <td>38.0</td>\n",
       "      <td>94.0</td>\n",
       "      <td>50.50</td>\n",
       "      <td>86.50</td>\n",
       "    </tr>\n",
       "    <tr>\n",
       "      <th>4</th>\n",
       "      <td>female</td>\n",
       "      <td>group B</td>\n",
       "      <td>free/reduced</td>\n",
       "      <td>completed</td>\n",
       "      <td>28.00</td>\n",
       "      <td>92.00</td>\n",
       "      <td>45.0</td>\n",
       "      <td>101.0</td>\n",
       "      <td>38.50</td>\n",
       "      <td>106.50</td>\n",
       "    </tr>\n",
       "  </tbody>\n",
       "</table>\n",
       "</div>"
      ],
      "text/plain": [
       "   gender     race         lunch testPreparation  mathScore_lower_bound  \\\n",
       "0  female  group A  free/reduced       completed                  11.25   \n",
       "1  female  group A  free/reduced            none                  24.50   \n",
       "2  female  group A      standard       completed                  45.50   \n",
       "3  female  group A      standard            none                  36.00   \n",
       "4  female  group B  free/reduced       completed                  28.00   \n",
       "\n",
       "   mathScore_upper_bound  readingScore_lower_bound  readingScore_upper_bound  \\\n",
       "0                  97.25                      19.0                      99.0   \n",
       "1                  72.50                      36.0                      84.0   \n",
       "2                  97.50                      67.0                      99.0   \n",
       "3                  76.00                      38.0                      94.0   \n",
       "4                  92.00                      45.0                     101.0   \n",
       "\n",
       "   writingScore_lower_bound  writingScore_upper_bound  \n",
       "0                     17.50                    105.50  \n",
       "1                     27.25                     85.25  \n",
       "2                     53.50                    113.50  \n",
       "3                     50.50                     86.50  \n",
       "4                     38.50                    106.50  "
      ]
     },
     "execution_count": 76,
     "metadata": {},
     "output_type": "execute_result"
    }
   ],
   "source": [
    "df_resultados = df.groupby(cat_cols, as_index=False).agg(transformations)\n",
    "df_resultados.columns = cat_cols + new_cols\n",
    "\n",
    "df_resultados.head(5)"
   ]
  },
  {
   "cell_type": "markdown",
   "metadata": {},
   "source": [
    "df_bound sera una combinacion (Inner Join) del dataframe original con el que acabamos de hacer."
   ]
  },
  {
   "cell_type": "code",
   "execution_count": 21,
   "metadata": {},
   "outputs": [],
   "source": [
    "df_bound = df.merge(\n",
    "    df_resultados,on=cat_cols,how=\"inner\"\n",
    ")"
   ]
  },
  {
   "cell_type": "markdown",
   "metadata": {},
   "source": [
    "El siguiente codigo nos obtiene todos los valores atipicos que existen en la columna \"mathScore\"."
   ]
  },
  {
   "cell_type": "code",
   "execution_count": 22,
   "metadata": {},
   "outputs": [
    {
     "data": {
      "text/html": [
       "<div>\n",
       "<style scoped>\n",
       "    .dataframe tbody tr th:only-of-type {\n",
       "        vertical-align: middle;\n",
       "    }\n",
       "\n",
       "    .dataframe tbody tr th {\n",
       "        vertical-align: top;\n",
       "    }\n",
       "\n",
       "    .dataframe thead th {\n",
       "        text-align: right;\n",
       "    }\n",
       "</style>\n",
       "<table border=\"1\" class=\"dataframe\">\n",
       "  <thead>\n",
       "    <tr style=\"text-align: right;\">\n",
       "      <th></th>\n",
       "      <th>gender</th>\n",
       "      <th>race</th>\n",
       "      <th>lunch</th>\n",
       "      <th>testPreparation</th>\n",
       "      <th>mathScore</th>\n",
       "      <th>mathScore_lower_bound</th>\n",
       "      <th>mathScore_upper_bound</th>\n",
       "    </tr>\n",
       "  </thead>\n",
       "  <tbody>\n",
       "    <tr>\n",
       "      <th>6</th>\n",
       "      <td>female</td>\n",
       "      <td>group B</td>\n",
       "      <td>standard</td>\n",
       "      <td>completed</td>\n",
       "      <td>88</td>\n",
       "      <td>42.500</td>\n",
       "      <td>84.500</td>\n",
       "    </tr>\n",
       "    <tr>\n",
       "      <th>59</th>\n",
       "      <td>female</td>\n",
       "      <td>group C</td>\n",
       "      <td>free/reduced</td>\n",
       "      <td>none</td>\n",
       "      <td>0</td>\n",
       "      <td>8.250</td>\n",
       "      <td>94.250</td>\n",
       "    </tr>\n",
       "    <tr>\n",
       "      <th>76</th>\n",
       "      <td>male</td>\n",
       "      <td>group E</td>\n",
       "      <td>standard</td>\n",
       "      <td>none</td>\n",
       "      <td>30</td>\n",
       "      <td>42.375</td>\n",
       "      <td>111.375</td>\n",
       "    </tr>\n",
       "    <tr>\n",
       "      <th>91</th>\n",
       "      <td>male</td>\n",
       "      <td>group C</td>\n",
       "      <td>free/reduced</td>\n",
       "      <td>none</td>\n",
       "      <td>27</td>\n",
       "      <td>40.750</td>\n",
       "      <td>84.750</td>\n",
       "    </tr>\n",
       "    <tr>\n",
       "      <th>211</th>\n",
       "      <td>male</td>\n",
       "      <td>group C</td>\n",
       "      <td>free/reduced</td>\n",
       "      <td>none</td>\n",
       "      <td>35</td>\n",
       "      <td>40.750</td>\n",
       "      <td>84.750</td>\n",
       "    </tr>\n",
       "    <tr>\n",
       "      <th>288</th>\n",
       "      <td>male</td>\n",
       "      <td>group B</td>\n",
       "      <td>free/reduced</td>\n",
       "      <td>none</td>\n",
       "      <td>88</td>\n",
       "      <td>25.875</td>\n",
       "      <td>84.875</td>\n",
       "    </tr>\n",
       "    <tr>\n",
       "      <th>455</th>\n",
       "      <td>male</td>\n",
       "      <td>group C</td>\n",
       "      <td>free/reduced</td>\n",
       "      <td>none</td>\n",
       "      <td>37</td>\n",
       "      <td>40.750</td>\n",
       "      <td>84.750</td>\n",
       "    </tr>\n",
       "    <tr>\n",
       "      <th>474</th>\n",
       "      <td>female</td>\n",
       "      <td>group B</td>\n",
       "      <td>standard</td>\n",
       "      <td>completed</td>\n",
       "      <td>90</td>\n",
       "      <td>42.500</td>\n",
       "      <td>84.500</td>\n",
       "    </tr>\n",
       "    <tr>\n",
       "      <th>501</th>\n",
       "      <td>female</td>\n",
       "      <td>group B</td>\n",
       "      <td>standard</td>\n",
       "      <td>completed</td>\n",
       "      <td>94</td>\n",
       "      <td>42.500</td>\n",
       "      <td>84.500</td>\n",
       "    </tr>\n",
       "    <tr>\n",
       "      <th>571</th>\n",
       "      <td>male</td>\n",
       "      <td>group A</td>\n",
       "      <td>standard</td>\n",
       "      <td>none</td>\n",
       "      <td>91</td>\n",
       "      <td>39.750</td>\n",
       "      <td>85.750</td>\n",
       "    </tr>\n",
       "    <tr>\n",
       "      <th>601</th>\n",
       "      <td>female</td>\n",
       "      <td>group C</td>\n",
       "      <td>standard</td>\n",
       "      <td>none</td>\n",
       "      <td>29</td>\n",
       "      <td>35.500</td>\n",
       "      <td>95.500</td>\n",
       "    </tr>\n",
       "    <tr>\n",
       "      <th>614</th>\n",
       "      <td>female</td>\n",
       "      <td>group A</td>\n",
       "      <td>standard</td>\n",
       "      <td>none</td>\n",
       "      <td>82</td>\n",
       "      <td>36.000</td>\n",
       "      <td>76.000</td>\n",
       "    </tr>\n",
       "    <tr>\n",
       "      <th>785</th>\n",
       "      <td>female</td>\n",
       "      <td>group B</td>\n",
       "      <td>standard</td>\n",
       "      <td>completed</td>\n",
       "      <td>32</td>\n",
       "      <td>42.500</td>\n",
       "      <td>84.500</td>\n",
       "    </tr>\n",
       "    <tr>\n",
       "      <th>787</th>\n",
       "      <td>female</td>\n",
       "      <td>group B</td>\n",
       "      <td>standard</td>\n",
       "      <td>none</td>\n",
       "      <td>19</td>\n",
       "      <td>28.500</td>\n",
       "      <td>100.500</td>\n",
       "    </tr>\n",
       "    <tr>\n",
       "      <th>842</th>\n",
       "      <td>female</td>\n",
       "      <td>group B</td>\n",
       "      <td>free/reduced</td>\n",
       "      <td>completed</td>\n",
       "      <td>23</td>\n",
       "      <td>28.000</td>\n",
       "      <td>92.000</td>\n",
       "    </tr>\n",
       "    <tr>\n",
       "      <th>859</th>\n",
       "      <td>male</td>\n",
       "      <td>group C</td>\n",
       "      <td>free/reduced</td>\n",
       "      <td>none</td>\n",
       "      <td>87</td>\n",
       "      <td>40.750</td>\n",
       "      <td>84.750</td>\n",
       "    </tr>\n",
       "    <tr>\n",
       "      <th>928</th>\n",
       "      <td>male</td>\n",
       "      <td>group E</td>\n",
       "      <td>free/reduced</td>\n",
       "      <td>completed</td>\n",
       "      <td>46</td>\n",
       "      <td>46.000</td>\n",
       "      <td>110.000</td>\n",
       "    </tr>\n",
       "    <tr>\n",
       "      <th>980</th>\n",
       "      <td>female</td>\n",
       "      <td>group B</td>\n",
       "      <td>free/reduced</td>\n",
       "      <td>none</td>\n",
       "      <td>8</td>\n",
       "      <td>13.000</td>\n",
       "      <td>103.000</td>\n",
       "    </tr>\n",
       "  </tbody>\n",
       "</table>\n",
       "</div>"
      ],
      "text/plain": [
       "     gender     race         lunch testPreparation  mathScore  \\\n",
       "6    female  group B      standard       completed         88   \n",
       "59   female  group C  free/reduced            none          0   \n",
       "76     male  group E      standard            none         30   \n",
       "91     male  group C  free/reduced            none         27   \n",
       "211    male  group C  free/reduced            none         35   \n",
       "288    male  group B  free/reduced            none         88   \n",
       "455    male  group C  free/reduced            none         37   \n",
       "474  female  group B      standard       completed         90   \n",
       "501  female  group B      standard       completed         94   \n",
       "571    male  group A      standard            none         91   \n",
       "601  female  group C      standard            none         29   \n",
       "614  female  group A      standard            none         82   \n",
       "785  female  group B      standard       completed         32   \n",
       "787  female  group B      standard            none         19   \n",
       "842  female  group B  free/reduced       completed         23   \n",
       "859    male  group C  free/reduced            none         87   \n",
       "928    male  group E  free/reduced       completed         46   \n",
       "980  female  group B  free/reduced            none          8   \n",
       "\n",
       "     mathScore_lower_bound  mathScore_upper_bound  \n",
       "6                   42.500                 84.500  \n",
       "59                   8.250                 94.250  \n",
       "76                  42.375                111.375  \n",
       "91                  40.750                 84.750  \n",
       "211                 40.750                 84.750  \n",
       "288                 25.875                 84.875  \n",
       "455                 40.750                 84.750  \n",
       "474                 42.500                 84.500  \n",
       "501                 42.500                 84.500  \n",
       "571                 39.750                 85.750  \n",
       "601                 35.500                 95.500  \n",
       "614                 36.000                 76.000  \n",
       "785                 42.500                 84.500  \n",
       "787                 28.500                100.500  \n",
       "842                 28.000                 92.000  \n",
       "859                 40.750                 84.750  \n",
       "928                 46.000                110.000  \n",
       "980                 13.000                103.000  "
      ]
     },
     "execution_count": 22,
     "metadata": {},
     "output_type": "execute_result"
    }
   ],
   "source": [
    "df_bound.loc[\n",
    "    (df_bound[\"mathScore\"] <= df_bound[\"mathScore_lower_bound\"])\n",
    "    |\n",
    "    (df_bound[\"mathScore\"] >= df_bound[\"mathScore_upper_bound\"])\n",
    "    ,\n",
    "    cat_cols + [\"mathScore\",\"mathScore_lower_bound\",\"mathScore_upper_bound\"]\n",
    "]"
   ]
  },
  {
   "cell_type": "markdown",
   "metadata": {},
   "source": [
    "El siguiente codigo nos obtiene todos los valores que se quedaran despues de limpiar los valores atipicos. O sea, los valores que no son atipicos"
   ]
  },
  {
   "cell_type": "code",
   "execution_count": 23,
   "metadata": {},
   "outputs": [
    {
     "data": {
      "text/html": [
       "<div>\n",
       "<style scoped>\n",
       "    .dataframe tbody tr th:only-of-type {\n",
       "        vertical-align: middle;\n",
       "    }\n",
       "\n",
       "    .dataframe tbody tr th {\n",
       "        vertical-align: top;\n",
       "    }\n",
       "\n",
       "    .dataframe thead th {\n",
       "        text-align: right;\n",
       "    }\n",
       "</style>\n",
       "<table border=\"1\" class=\"dataframe\">\n",
       "  <thead>\n",
       "    <tr style=\"text-align: right;\">\n",
       "      <th></th>\n",
       "      <th>gender</th>\n",
       "      <th>race</th>\n",
       "      <th>lunch</th>\n",
       "      <th>testPreparation</th>\n",
       "      <th>mathScore</th>\n",
       "      <th>readingScore</th>\n",
       "      <th>writingScore</th>\n",
       "      <th>mathScore_lower_bound</th>\n",
       "      <th>mathScore_upper_bound</th>\n",
       "      <th>readingScore_lower_bound</th>\n",
       "      <th>readingScore_upper_bound</th>\n",
       "      <th>writingScore_lower_bound</th>\n",
       "      <th>writingScore_upper_bound</th>\n",
       "    </tr>\n",
       "  </thead>\n",
       "  <tbody>\n",
       "    <tr>\n",
       "      <th>0</th>\n",
       "      <td>female</td>\n",
       "      <td>group B</td>\n",
       "      <td>standard</td>\n",
       "      <td>none</td>\n",
       "      <td>72</td>\n",
       "      <td>72</td>\n",
       "      <td>74</td>\n",
       "      <td>28.500</td>\n",
       "      <td>100.500</td>\n",
       "      <td>31.750</td>\n",
       "      <td>113.750</td>\n",
       "      <td>33.750</td>\n",
       "      <td>107.750</td>\n",
       "    </tr>\n",
       "    <tr>\n",
       "      <th>1</th>\n",
       "      <td>female</td>\n",
       "      <td>group C</td>\n",
       "      <td>standard</td>\n",
       "      <td>completed</td>\n",
       "      <td>69</td>\n",
       "      <td>90</td>\n",
       "      <td>88</td>\n",
       "      <td>36.125</td>\n",
       "      <td>101.125</td>\n",
       "      <td>49.625</td>\n",
       "      <td>112.625</td>\n",
       "      <td>58.625</td>\n",
       "      <td>105.625</td>\n",
       "    </tr>\n",
       "    <tr>\n",
       "      <th>2</th>\n",
       "      <td>female</td>\n",
       "      <td>group B</td>\n",
       "      <td>standard</td>\n",
       "      <td>none</td>\n",
       "      <td>90</td>\n",
       "      <td>95</td>\n",
       "      <td>93</td>\n",
       "      <td>28.500</td>\n",
       "      <td>100.500</td>\n",
       "      <td>31.750</td>\n",
       "      <td>113.750</td>\n",
       "      <td>33.750</td>\n",
       "      <td>107.750</td>\n",
       "    </tr>\n",
       "    <tr>\n",
       "      <th>3</th>\n",
       "      <td>male</td>\n",
       "      <td>group A</td>\n",
       "      <td>free/reduced</td>\n",
       "      <td>none</td>\n",
       "      <td>47</td>\n",
       "      <td>57</td>\n",
       "      <td>44</td>\n",
       "      <td>19.000</td>\n",
       "      <td>95.000</td>\n",
       "      <td>8.250</td>\n",
       "      <td>110.250</td>\n",
       "      <td>12.000</td>\n",
       "      <td>96.000</td>\n",
       "    </tr>\n",
       "    <tr>\n",
       "      <th>4</th>\n",
       "      <td>male</td>\n",
       "      <td>group C</td>\n",
       "      <td>standard</td>\n",
       "      <td>none</td>\n",
       "      <td>76</td>\n",
       "      <td>78</td>\n",
       "      <td>75</td>\n",
       "      <td>33.750</td>\n",
       "      <td>103.750</td>\n",
       "      <td>28.250</td>\n",
       "      <td>102.250</td>\n",
       "      <td>22.250</td>\n",
       "      <td>100.250</td>\n",
       "    </tr>\n",
       "    <tr>\n",
       "      <th>...</th>\n",
       "      <td>...</td>\n",
       "      <td>...</td>\n",
       "      <td>...</td>\n",
       "      <td>...</td>\n",
       "      <td>...</td>\n",
       "      <td>...</td>\n",
       "      <td>...</td>\n",
       "      <td>...</td>\n",
       "      <td>...</td>\n",
       "      <td>...</td>\n",
       "      <td>...</td>\n",
       "      <td>...</td>\n",
       "      <td>...</td>\n",
       "    </tr>\n",
       "    <tr>\n",
       "      <th>995</th>\n",
       "      <td>female</td>\n",
       "      <td>group E</td>\n",
       "      <td>standard</td>\n",
       "      <td>completed</td>\n",
       "      <td>88</td>\n",
       "      <td>99</td>\n",
       "      <td>95</td>\n",
       "      <td>45.500</td>\n",
       "      <td>113.500</td>\n",
       "      <td>54.000</td>\n",
       "      <td>110.000</td>\n",
       "      <td>49.000</td>\n",
       "      <td>121.000</td>\n",
       "    </tr>\n",
       "    <tr>\n",
       "      <th>996</th>\n",
       "      <td>male</td>\n",
       "      <td>group C</td>\n",
       "      <td>free/reduced</td>\n",
       "      <td>none</td>\n",
       "      <td>62</td>\n",
       "      <td>55</td>\n",
       "      <td>55</td>\n",
       "      <td>40.750</td>\n",
       "      <td>84.750</td>\n",
       "      <td>41.625</td>\n",
       "      <td>82.625</td>\n",
       "      <td>35.500</td>\n",
       "      <td>81.500</td>\n",
       "    </tr>\n",
       "    <tr>\n",
       "      <th>997</th>\n",
       "      <td>female</td>\n",
       "      <td>group C</td>\n",
       "      <td>free/reduced</td>\n",
       "      <td>completed</td>\n",
       "      <td>59</td>\n",
       "      <td>71</td>\n",
       "      <td>65</td>\n",
       "      <td>25.250</td>\n",
       "      <td>91.250</td>\n",
       "      <td>46.250</td>\n",
       "      <td>100.250</td>\n",
       "      <td>45.750</td>\n",
       "      <td>103.750</td>\n",
       "    </tr>\n",
       "    <tr>\n",
       "      <th>998</th>\n",
       "      <td>female</td>\n",
       "      <td>group D</td>\n",
       "      <td>standard</td>\n",
       "      <td>completed</td>\n",
       "      <td>68</td>\n",
       "      <td>78</td>\n",
       "      <td>77</td>\n",
       "      <td>45.500</td>\n",
       "      <td>99.500</td>\n",
       "      <td>60.750</td>\n",
       "      <td>98.750</td>\n",
       "      <td>57.875</td>\n",
       "      <td>110.875</td>\n",
       "    </tr>\n",
       "    <tr>\n",
       "      <th>999</th>\n",
       "      <td>female</td>\n",
       "      <td>group D</td>\n",
       "      <td>free/reduced</td>\n",
       "      <td>none</td>\n",
       "      <td>77</td>\n",
       "      <td>86</td>\n",
       "      <td>86</td>\n",
       "      <td>19.750</td>\n",
       "      <td>93.750</td>\n",
       "      <td>27.500</td>\n",
       "      <td>107.500</td>\n",
       "      <td>25.000</td>\n",
       "      <td>109.000</td>\n",
       "    </tr>\n",
       "  </tbody>\n",
       "</table>\n",
       "<p>982 rows × 13 columns</p>\n",
       "</div>"
      ],
      "text/plain": [
       "     gender     race         lunch testPreparation  mathScore  readingScore  \\\n",
       "0    female  group B      standard            none         72            72   \n",
       "1    female  group C      standard       completed         69            90   \n",
       "2    female  group B      standard            none         90            95   \n",
       "3      male  group A  free/reduced            none         47            57   \n",
       "4      male  group C      standard            none         76            78   \n",
       "..      ...      ...           ...             ...        ...           ...   \n",
       "995  female  group E      standard       completed         88            99   \n",
       "996    male  group C  free/reduced            none         62            55   \n",
       "997  female  group C  free/reduced       completed         59            71   \n",
       "998  female  group D      standard       completed         68            78   \n",
       "999  female  group D  free/reduced            none         77            86   \n",
       "\n",
       "     writingScore  mathScore_lower_bound  mathScore_upper_bound  \\\n",
       "0              74                 28.500                100.500   \n",
       "1              88                 36.125                101.125   \n",
       "2              93                 28.500                100.500   \n",
       "3              44                 19.000                 95.000   \n",
       "4              75                 33.750                103.750   \n",
       "..            ...                    ...                    ...   \n",
       "995            95                 45.500                113.500   \n",
       "996            55                 40.750                 84.750   \n",
       "997            65                 25.250                 91.250   \n",
       "998            77                 45.500                 99.500   \n",
       "999            86                 19.750                 93.750   \n",
       "\n",
       "     readingScore_lower_bound  readingScore_upper_bound  \\\n",
       "0                      31.750                   113.750   \n",
       "1                      49.625                   112.625   \n",
       "2                      31.750                   113.750   \n",
       "3                       8.250                   110.250   \n",
       "4                      28.250                   102.250   \n",
       "..                        ...                       ...   \n",
       "995                    54.000                   110.000   \n",
       "996                    41.625                    82.625   \n",
       "997                    46.250                   100.250   \n",
       "998                    60.750                    98.750   \n",
       "999                    27.500                   107.500   \n",
       "\n",
       "     writingScore_lower_bound  writingScore_upper_bound  \n",
       "0                      33.750                   107.750  \n",
       "1                      58.625                   105.625  \n",
       "2                      33.750                   107.750  \n",
       "3                      12.000                    96.000  \n",
       "4                      22.250                   100.250  \n",
       "..                        ...                       ...  \n",
       "995                    49.000                   121.000  \n",
       "996                    35.500                    81.500  \n",
       "997                    45.750                   103.750  \n",
       "998                    57.875                   110.875  \n",
       "999                    25.000                   109.000  \n",
       "\n",
       "[982 rows x 13 columns]"
      ]
     },
     "execution_count": 23,
     "metadata": {},
     "output_type": "execute_result"
    }
   ],
   "source": [
    "df_bound.loc[\n",
    "    (df_bound[\"mathScore\"] > df_bound[\"mathScore_lower_bound\"])\n",
    "    &\n",
    "    (df_bound[\"mathScore\"] < df_bound[\"mathScore_upper_bound\"])\n",
    "    ,\n",
    "    :\n",
    "]"
   ]
  },
  {
   "cell_type": "markdown",
   "metadata": {},
   "source": [
    "# Limpieza de los valores atipicos\n",
    "\n",
    "Definiremos una funcion que recibira el dataframe que creamos con los limites y un arreglo que contiene las columnas numericas. Utilizando la misma logica que el ejemplo anterior para obtener los valores que no son atipicos, realizamos la funcion\n",
    "\n",
    "Nota: El dataframe que recibe esta funcion, debe tener siempre columnas del tipo {nombre columna}_lower_bound y {nombre columna}_upper_boun"
   ]
  },
  {
   "cell_type": "code",
   "execution_count": 25,
   "metadata": {},
   "outputs": [],
   "source": [
    "def limpiarAtipicos(df,numericColumns):\n",
    "    for c in numericColumns:\n",
    "        print(df.shape[0])\n",
    "        df = df.loc[ (df[c] > df[f\"{c}_lower_bound\"]) & (df[c] < df[f\"{c}_upper_bound\"]) , : ]\n",
    "\n",
    "    return df\n",
    "        "
   ]
  },
  {
   "cell_type": "markdown",
   "metadata": {},
   "source": [
    "### Antes de limpiar los valores atipicos de df_bound"
   ]
  },
  {
   "cell_type": "code",
   "execution_count": 26,
   "metadata": {},
   "outputs": [
    {
     "data": {
      "text/plain": [
       "(1000, 13)"
      ]
     },
     "execution_count": 26,
     "metadata": {},
     "output_type": "execute_result"
    }
   ],
   "source": [
    "df_bound.shape"
   ]
  },
  {
   "cell_type": "code",
   "execution_count": 27,
   "metadata": {},
   "outputs": [
    {
     "data": {
      "image/png": "[encoded data removed]",
      "text/plain": [
       "<Figure size 640x480 with 1 Axes>"
      ]
     },
     "metadata": {},
     "output_type": "display_data"
    },
    {
     "data": {
      "image/png": "[encoded data removed]",
      "text/plain": [
       "<Figure size 640x480 with 1 Axes>"
      ]
     },
     "metadata": {},
     "output_type": "display_data"
    },
    {
     "data": {
      "image/png": "[encoded data removed]",
      "text/plain": [
       "<Figure size 640x480 with 1 Axes>"
      ]
     },
     "metadata": {},
     "output_type": "display_data"
    }
   ],
   "source": [
    "for c in num_cols:\n",
    "    df_bound.loc[:,[c]].boxplot()\n",
    "    plt.show()"
   ]
  },
  {
   "cell_type": "markdown",
   "metadata": {},
   "source": [
    "### Despues de limpiar los valores atipicos de df_bound"
   ]
  },
  {
   "cell_type": "code",
   "execution_count": 28,
   "metadata": {},
   "outputs": [
    {
     "name": "stdout",
     "output_type": "stream",
     "text": [
      "1000\n",
      "982\n",
      "969\n"
     ]
    }
   ],
   "source": [
    "df_bound = limpiarAtipicos(df_bound, num_cols)"
   ]
  },
  {
   "cell_type": "markdown",
   "metadata": {},
   "source": [
    "De 1000 registros, ahora tenemos 963 despues de la limpieza"
   ]
  },
  {
   "cell_type": "code",
   "execution_count": 29,
   "metadata": {},
   "outputs": [
    {
     "data": {
      "text/plain": [
       "(963, 13)"
      ]
     },
     "execution_count": 29,
     "metadata": {},
     "output_type": "execute_result"
    }
   ],
   "source": [
    "df_bound.shape"
   ]
  },
  {
   "cell_type": "markdown",
   "metadata": {},
   "source": [
    "Ahora ya limpiados los valores atipicos, veremos los boxplot de las categorias numericas. Podemos observar que en muchos casos, segun el diagrama de caja aun existen valores fuera de los cuartiles, pero estos valores tienen mucha menos dispersion que los presentados al inicio de este notebook."
   ]
  },
  {
   "cell_type": "code",
   "execution_count": 30,
   "metadata": {},
   "outputs": [
    {
     "data": {
      "image/png": "[encoded data removed]",
      "text/plain": [
       "<Figure size 640x480 with 1 Axes>"
      ]
     },
     "metadata": {},
     "output_type": "display_data"
    },
    {
     "data": {
      "image/png": "[encoded data removed]",
      "text/plain": [
       "<Figure size 640x480 with 1 Axes>"
      ]
     },
     "metadata": {},
     "output_type": "display_data"
    },
    {
     "data": {
      "image/png": "[encoded data removed]",
      "text/plain": [
       "<Figure size 640x480 with 1 Axes>"
      ]
     },
     "metadata": {},
     "output_type": "display_data"
    }
   ],
   "source": [
    "for c in num_cols:\n",
    "    df_bound.loc[:,[c]].boxplot()\n",
    "    plt.show()"
   ]
  },
  {
   "cell_type": "markdown",
   "metadata": {},
   "source": [
    "Se eliminaron el 3.7% de los registros despues de la limpieza"
   ]
  },
  {
   "cell_type": "code",
   "execution_count": 31,
   "metadata": {},
   "outputs": [
    {
     "data": {
      "text/plain": [
       "0.03700000000000003"
      ]
     },
     "execution_count": 31,
     "metadata": {},
     "output_type": "execute_result"
    }
   ],
   "source": [
    "1 - 963/1000"
   ]
  },
  {
   "cell_type": "markdown",
   "metadata": {},
   "source": [
    "# Casos de los cortes categoricos"
   ]
  },
  {
   "cell_type": "markdown",
   "metadata": {},
   "source": [
    "## Corte categorico #1\n",
    "\n",
    "En este caso, podemos ver una reduccion notoria de los valores atipicos de este corte categorico.\n",
    "\n"
   ]
  },
  {
   "cell_type": "code",
   "execution_count": 32,
   "metadata": {},
   "outputs": [
    {
     "data": {
      "image/png": "[encoded data removed]",
      "text/plain": [
       "<Figure size 640x480 with 1 Axes>"
      ]
     },
     "metadata": {},
     "output_type": "display_data"
    }
   ],
   "source": [
    "df_bound.loc[(df[\"gender\"]=='male')\n",
    "       & (df_bound[\"race\"]=='group A')\n",
    "       & (df_bound['testPreparation']=='none'),[\"mathScore\"]].boxplot()\n",
    "plt.show()"
   ]
  },
  {
   "cell_type": "markdown",
   "metadata": {},
   "source": [
    "## Corte categorico #2\n",
    "\n",
    "En este caso se eliminaron todos los valores atipicos, teniendo un boxplot perfecto"
   ]
  },
  {
   "cell_type": "code",
   "execution_count": 33,
   "metadata": {},
   "outputs": [
    {
     "data": {
      "image/png": "[encoded data removed]",
      "text/plain": [
       "<Figure size 640x480 with 1 Axes>"
      ]
     },
     "metadata": {},
     "output_type": "display_data"
    }
   ],
   "source": [
    "df_bound.loc[(df_bound[\"gender\"]=='female')\n",
    "       & (df_bound[\"race\"]=='group B')\n",
    "       & (df_bound['testPreparation']=='none'),[\"mathScore\"]].boxplot()\n",
    "plt.show()"
   ]
  },
  {
   "cell_type": "markdown",
   "metadata": {},
   "source": [
    "## Prologo a la expansion del dataset\n",
    "\n",
    "Crearemos un nuevo dataframe que solo contenga las columnas cateogircas y numericas, ya no necesitamos los valores de los limites. Este dataframe df_clean sera el dataframe sin valores atipicos"
   ]
  },
  {
   "cell_type": "code",
   "execution_count": 34,
   "metadata": {},
   "outputs": [],
   "source": [
    "df_clean = df_bound.loc[:,cat_cols+num_cols]"
   ]
  },
  {
   "cell_type": "markdown",
   "metadata": {},
   "source": [
    "En el siguiente bloque, solamente tenemos un ejemplo o recordatorio que podemos obtener los valores minimos, maximos, promedios y desviacion estandar de la siguiente forma"
   ]
  },
  {
   "cell_type": "code",
   "execution_count": 35,
   "metadata": {},
   "outputs": [
    {
     "data": {
      "text/html": [
       "<div>\n",
       "<style scoped>\n",
       "    .dataframe tbody tr th:only-of-type {\n",
       "        vertical-align: middle;\n",
       "    }\n",
       "\n",
       "    .dataframe tbody tr th {\n",
       "        vertical-align: top;\n",
       "    }\n",
       "\n",
       "    .dataframe thead tr th {\n",
       "        text-align: left;\n",
       "    }\n",
       "</style>\n",
       "<table border=\"1\" class=\"dataframe\">\n",
       "  <thead>\n",
       "    <tr>\n",
       "      <th></th>\n",
       "      <th>gender</th>\n",
       "      <th>race</th>\n",
       "      <th>lunch</th>\n",
       "      <th>testPreparation</th>\n",
       "      <th colspan=\"4\" halign=\"left\">mathScore</th>\n",
       "    </tr>\n",
       "    <tr>\n",
       "      <th></th>\n",
       "      <th></th>\n",
       "      <th></th>\n",
       "      <th></th>\n",
       "      <th></th>\n",
       "      <th>min</th>\n",
       "      <th>max</th>\n",
       "      <th>mean</th>\n",
       "      <th>std</th>\n",
       "    </tr>\n",
       "  </thead>\n",
       "  <tbody>\n",
       "    <tr>\n",
       "      <th>0</th>\n",
       "      <td>female</td>\n",
       "      <td>group A</td>\n",
       "      <td>free/reduced</td>\n",
       "      <td>completed</td>\n",
       "      <td>34</td>\n",
       "      <td>77</td>\n",
       "      <td>54.666667</td>\n",
       "      <td>21.548395</td>\n",
       "    </tr>\n",
       "    <tr>\n",
       "      <th>1</th>\n",
       "      <td>female</td>\n",
       "      <td>group A</td>\n",
       "      <td>free/reduced</td>\n",
       "      <td>none</td>\n",
       "      <td>37</td>\n",
       "      <td>61</td>\n",
       "      <td>47.000000</td>\n",
       "      <td>8.082904</td>\n",
       "    </tr>\n",
       "    <tr>\n",
       "      <th>2</th>\n",
       "      <td>female</td>\n",
       "      <td>group A</td>\n",
       "      <td>standard</td>\n",
       "      <td>completed</td>\n",
       "      <td>59</td>\n",
       "      <td>85</td>\n",
       "      <td>71.714286</td>\n",
       "      <td>8.635475</td>\n",
       "    </tr>\n",
       "    <tr>\n",
       "      <th>3</th>\n",
       "      <td>female</td>\n",
       "      <td>group A</td>\n",
       "      <td>standard</td>\n",
       "      <td>none</td>\n",
       "      <td>45</td>\n",
       "      <td>71</td>\n",
       "      <td>56.416667</td>\n",
       "      <td>7.867752</td>\n",
       "    </tr>\n",
       "    <tr>\n",
       "      <th>4</th>\n",
       "      <td>female</td>\n",
       "      <td>group B</td>\n",
       "      <td>free/reduced</td>\n",
       "      <td>completed</td>\n",
       "      <td>46</td>\n",
       "      <td>77</td>\n",
       "      <td>62.562500</td>\n",
       "      <td>10.359979</td>\n",
       "    </tr>\n",
       "    <tr>\n",
       "      <th>5</th>\n",
       "      <td>female</td>\n",
       "      <td>group B</td>\n",
       "      <td>free/reduced</td>\n",
       "      <td>none</td>\n",
       "      <td>24</td>\n",
       "      <td>78</td>\n",
       "      <td>57.700000</td>\n",
       "      <td>14.205633</td>\n",
       "    </tr>\n",
       "    <tr>\n",
       "      <th>6</th>\n",
       "      <td>female</td>\n",
       "      <td>group B</td>\n",
       "      <td>standard</td>\n",
       "      <td>completed</td>\n",
       "      <td>50</td>\n",
       "      <td>77</td>\n",
       "      <td>61.714286</td>\n",
       "      <td>7.258190</td>\n",
       "    </tr>\n",
       "    <tr>\n",
       "      <th>7</th>\n",
       "      <td>female</td>\n",
       "      <td>group B</td>\n",
       "      <td>standard</td>\n",
       "      <td>none</td>\n",
       "      <td>37</td>\n",
       "      <td>97</td>\n",
       "      <td>65.108696</td>\n",
       "      <td>13.906399</td>\n",
       "    </tr>\n",
       "    <tr>\n",
       "      <th>8</th>\n",
       "      <td>female</td>\n",
       "      <td>group C</td>\n",
       "      <td>free/reduced</td>\n",
       "      <td>completed</td>\n",
       "      <td>42</td>\n",
       "      <td>82</td>\n",
       "      <td>60.227273</td>\n",
       "      <td>10.756756</td>\n",
       "    </tr>\n",
       "    <tr>\n",
       "      <th>9</th>\n",
       "      <td>female</td>\n",
       "      <td>group C</td>\n",
       "      <td>free/reduced</td>\n",
       "      <td>none</td>\n",
       "      <td>22</td>\n",
       "      <td>77</td>\n",
       "      <td>50.578947</td>\n",
       "      <td>13.167592</td>\n",
       "    </tr>\n",
       "    <tr>\n",
       "      <th>10</th>\n",
       "      <td>female</td>\n",
       "      <td>group C</td>\n",
       "      <td>standard</td>\n",
       "      <td>completed</td>\n",
       "      <td>52</td>\n",
       "      <td>96</td>\n",
       "      <td>70.288889</td>\n",
       "      <td>11.592753</td>\n",
       "    </tr>\n",
       "    <tr>\n",
       "      <th>11</th>\n",
       "      <td>female</td>\n",
       "      <td>group C</td>\n",
       "      <td>standard</td>\n",
       "      <td>none</td>\n",
       "      <td>39</td>\n",
       "      <td>91</td>\n",
       "      <td>65.549296</td>\n",
       "      <td>12.069784</td>\n",
       "    </tr>\n",
       "    <tr>\n",
       "      <th>12</th>\n",
       "      <td>female</td>\n",
       "      <td>group D</td>\n",
       "      <td>free/reduced</td>\n",
       "      <td>completed</td>\n",
       "      <td>35</td>\n",
       "      <td>93</td>\n",
       "      <td>62.050000</td>\n",
       "      <td>14.982358</td>\n",
       "    </tr>\n",
       "    <tr>\n",
       "      <th>13</th>\n",
       "      <td>female</td>\n",
       "      <td>group D</td>\n",
       "      <td>free/reduced</td>\n",
       "      <td>none</td>\n",
       "      <td>26</td>\n",
       "      <td>79</td>\n",
       "      <td>55.451613</td>\n",
       "      <td>14.626092</td>\n",
       "    </tr>\n",
       "    <tr>\n",
       "      <th>14</th>\n",
       "      <td>female</td>\n",
       "      <td>group D</td>\n",
       "      <td>standard</td>\n",
       "      <td>completed</td>\n",
       "      <td>56</td>\n",
       "      <td>88</td>\n",
       "      <td>71.650000</td>\n",
       "      <td>8.634539</td>\n",
       "    </tr>\n",
       "    <tr>\n",
       "      <th>15</th>\n",
       "      <td>female</td>\n",
       "      <td>group D</td>\n",
       "      <td>standard</td>\n",
       "      <td>none</td>\n",
       "      <td>45</td>\n",
       "      <td>98</td>\n",
       "      <td>68.851852</td>\n",
       "      <td>11.752812</td>\n",
       "    </tr>\n",
       "    <tr>\n",
       "      <th>16</th>\n",
       "      <td>female</td>\n",
       "      <td>group E</td>\n",
       "      <td>free/reduced</td>\n",
       "      <td>completed</td>\n",
       "      <td>42</td>\n",
       "      <td>92</td>\n",
       "      <td>67.428571</td>\n",
       "      <td>17.174178</td>\n",
       "    </tr>\n",
       "    <tr>\n",
       "      <th>17</th>\n",
       "      <td>female</td>\n",
       "      <td>group E</td>\n",
       "      <td>free/reduced</td>\n",
       "      <td>none</td>\n",
       "      <td>32</td>\n",
       "      <td>81</td>\n",
       "      <td>58.625000</td>\n",
       "      <td>14.573378</td>\n",
       "    </tr>\n",
       "    <tr>\n",
       "      <th>18</th>\n",
       "      <td>female</td>\n",
       "      <td>group E</td>\n",
       "      <td>standard</td>\n",
       "      <td>completed</td>\n",
       "      <td>59</td>\n",
       "      <td>99</td>\n",
       "      <td>79.176471</td>\n",
       "      <td>12.151313</td>\n",
       "    </tr>\n",
       "    <tr>\n",
       "      <th>19</th>\n",
       "      <td>female</td>\n",
       "      <td>group E</td>\n",
       "      <td>standard</td>\n",
       "      <td>none</td>\n",
       "      <td>37</td>\n",
       "      <td>100</td>\n",
       "      <td>73.448276</td>\n",
       "      <td>15.621840</td>\n",
       "    </tr>\n",
       "    <tr>\n",
       "      <th>20</th>\n",
       "      <td>male</td>\n",
       "      <td>group A</td>\n",
       "      <td>free/reduced</td>\n",
       "      <td>completed</td>\n",
       "      <td>40</td>\n",
       "      <td>81</td>\n",
       "      <td>61.714286</td>\n",
       "      <td>16.059413</td>\n",
       "    </tr>\n",
       "    <tr>\n",
       "      <th>21</th>\n",
       "      <td>male</td>\n",
       "      <td>group A</td>\n",
       "      <td>free/reduced</td>\n",
       "      <td>none</td>\n",
       "      <td>28</td>\n",
       "      <td>79</td>\n",
       "      <td>57.133333</td>\n",
       "      <td>14.166695</td>\n",
       "    </tr>\n",
       "    <tr>\n",
       "      <th>22</th>\n",
       "      <td>male</td>\n",
       "      <td>group A</td>\n",
       "      <td>standard</td>\n",
       "      <td>completed</td>\n",
       "      <td>46</td>\n",
       "      <td>100</td>\n",
       "      <td>72.583333</td>\n",
       "      <td>17.312415</td>\n",
       "    </tr>\n",
       "    <tr>\n",
       "      <th>23</th>\n",
       "      <td>male</td>\n",
       "      <td>group A</td>\n",
       "      <td>standard</td>\n",
       "      <td>none</td>\n",
       "      <td>51</td>\n",
       "      <td>77</td>\n",
       "      <td>62.611111</td>\n",
       "      <td>7.365571</td>\n",
       "    </tr>\n",
       "    <tr>\n",
       "      <th>24</th>\n",
       "      <td>male</td>\n",
       "      <td>group B</td>\n",
       "      <td>free/reduced</td>\n",
       "      <td>completed</td>\n",
       "      <td>49</td>\n",
       "      <td>87</td>\n",
       "      <td>67.250000</td>\n",
       "      <td>13.068501</td>\n",
       "    </tr>\n",
       "    <tr>\n",
       "      <th>25</th>\n",
       "      <td>male</td>\n",
       "      <td>group B</td>\n",
       "      <td>free/reduced</td>\n",
       "      <td>none</td>\n",
       "      <td>40</td>\n",
       "      <td>75</td>\n",
       "      <td>56.157895</td>\n",
       "      <td>10.150332</td>\n",
       "    </tr>\n",
       "    <tr>\n",
       "      <th>26</th>\n",
       "      <td>male</td>\n",
       "      <td>group B</td>\n",
       "      <td>standard</td>\n",
       "      <td>completed</td>\n",
       "      <td>51</td>\n",
       "      <td>94</td>\n",
       "      <td>73.560000</td>\n",
       "      <td>12.325718</td>\n",
       "    </tr>\n",
       "    <tr>\n",
       "      <th>27</th>\n",
       "      <td>male</td>\n",
       "      <td>group B</td>\n",
       "      <td>standard</td>\n",
       "      <td>none</td>\n",
       "      <td>47</td>\n",
       "      <td>90</td>\n",
       "      <td>66.838710</td>\n",
       "      <td>12.050164</td>\n",
       "    </tr>\n",
       "    <tr>\n",
       "      <th>28</th>\n",
       "      <td>male</td>\n",
       "      <td>group C</td>\n",
       "      <td>free/reduced</td>\n",
       "      <td>completed</td>\n",
       "      <td>40</td>\n",
       "      <td>79</td>\n",
       "      <td>58.600000</td>\n",
       "      <td>11.245584</td>\n",
       "    </tr>\n",
       "    <tr>\n",
       "      <th>29</th>\n",
       "      <td>male</td>\n",
       "      <td>group C</td>\n",
       "      <td>free/reduced</td>\n",
       "      <td>none</td>\n",
       "      <td>49</td>\n",
       "      <td>80</td>\n",
       "      <td>64.178571</td>\n",
       "      <td>8.463663</td>\n",
       "    </tr>\n",
       "    <tr>\n",
       "      <th>30</th>\n",
       "      <td>male</td>\n",
       "      <td>group C</td>\n",
       "      <td>standard</td>\n",
       "      <td>completed</td>\n",
       "      <td>51</td>\n",
       "      <td>98</td>\n",
       "      <td>77.285714</td>\n",
       "      <td>13.745995</td>\n",
       "    </tr>\n",
       "    <tr>\n",
       "      <th>31</th>\n",
       "      <td>male</td>\n",
       "      <td>group C</td>\n",
       "      <td>standard</td>\n",
       "      <td>none</td>\n",
       "      <td>46</td>\n",
       "      <td>97</td>\n",
       "      <td>69.135593</td>\n",
       "      <td>12.608779</td>\n",
       "    </tr>\n",
       "    <tr>\n",
       "      <th>32</th>\n",
       "      <td>male</td>\n",
       "      <td>group D</td>\n",
       "      <td>free/reduced</td>\n",
       "      <td>completed</td>\n",
       "      <td>55</td>\n",
       "      <td>84</td>\n",
       "      <td>71.000000</td>\n",
       "      <td>9.015139</td>\n",
       "    </tr>\n",
       "    <tr>\n",
       "      <th>33</th>\n",
       "      <td>male</td>\n",
       "      <td>group D</td>\n",
       "      <td>free/reduced</td>\n",
       "      <td>none</td>\n",
       "      <td>42</td>\n",
       "      <td>90</td>\n",
       "      <td>63.064516</td>\n",
       "      <td>11.386938</td>\n",
       "    </tr>\n",
       "    <tr>\n",
       "      <th>34</th>\n",
       "      <td>male</td>\n",
       "      <td>group D</td>\n",
       "      <td>standard</td>\n",
       "      <td>completed</td>\n",
       "      <td>58</td>\n",
       "      <td>89</td>\n",
       "      <td>73.782609</td>\n",
       "      <td>8.800602</td>\n",
       "    </tr>\n",
       "    <tr>\n",
       "      <th>35</th>\n",
       "      <td>male</td>\n",
       "      <td>group D</td>\n",
       "      <td>standard</td>\n",
       "      <td>none</td>\n",
       "      <td>40</td>\n",
       "      <td>95</td>\n",
       "      <td>70.843750</td>\n",
       "      <td>13.930917</td>\n",
       "    </tr>\n",
       "    <tr>\n",
       "      <th>36</th>\n",
       "      <td>male</td>\n",
       "      <td>group E</td>\n",
       "      <td>free/reduced</td>\n",
       "      <td>completed</td>\n",
       "      <td>70</td>\n",
       "      <td>91</td>\n",
       "      <td>79.888889</td>\n",
       "      <td>6.827233</td>\n",
       "    </tr>\n",
       "    <tr>\n",
       "      <th>37</th>\n",
       "      <td>male</td>\n",
       "      <td>group E</td>\n",
       "      <td>free/reduced</td>\n",
       "      <td>none</td>\n",
       "      <td>46</td>\n",
       "      <td>93</td>\n",
       "      <td>69.600000</td>\n",
       "      <td>21.007142</td>\n",
       "    </tr>\n",
       "    <tr>\n",
       "      <th>38</th>\n",
       "      <td>male</td>\n",
       "      <td>group E</td>\n",
       "      <td>standard</td>\n",
       "      <td>completed</td>\n",
       "      <td>62</td>\n",
       "      <td>99</td>\n",
       "      <td>79.863636</td>\n",
       "      <td>10.521160</td>\n",
       "    </tr>\n",
       "    <tr>\n",
       "      <th>39</th>\n",
       "      <td>male</td>\n",
       "      <td>group E</td>\n",
       "      <td>standard</td>\n",
       "      <td>none</td>\n",
       "      <td>53</td>\n",
       "      <td>97</td>\n",
       "      <td>77.344828</td>\n",
       "      <td>11.814869</td>\n",
       "    </tr>\n",
       "  </tbody>\n",
       "</table>\n",
       "</div>"
      ],
      "text/plain": [
       "    gender     race         lunch testPreparation mathScore                  \\\n",
       "                                                        min  max       mean   \n",
       "0   female  group A  free/reduced       completed        34   77  54.666667   \n",
       "1   female  group A  free/reduced            none        37   61  47.000000   \n",
       "2   female  group A      standard       completed        59   85  71.714286   \n",
       "3   female  group A      standard            none        45   71  56.416667   \n",
       "4   female  group B  free/reduced       completed        46   77  62.562500   \n",
       "5   female  group B  free/reduced            none        24   78  57.700000   \n",
       "6   female  group B      standard       completed        50   77  61.714286   \n",
       "7   female  group B      standard            none        37   97  65.108696   \n",
       "8   female  group C  free/reduced       completed        42   82  60.227273   \n",
       "9   female  group C  free/reduced            none        22   77  50.578947   \n",
       "10  female  group C      standard       completed        52   96  70.288889   \n",
       "11  female  group C      standard            none        39   91  65.549296   \n",
       "12  female  group D  free/reduced       completed        35   93  62.050000   \n",
       "13  female  group D  free/reduced            none        26   79  55.451613   \n",
       "14  female  group D      standard       completed        56   88  71.650000   \n",
       "15  female  group D      standard            none        45   98  68.851852   \n",
       "16  female  group E  free/reduced       completed        42   92  67.428571   \n",
       "17  female  group E  free/reduced            none        32   81  58.625000   \n",
       "18  female  group E      standard       completed        59   99  79.176471   \n",
       "19  female  group E      standard            none        37  100  73.448276   \n",
       "20    male  group A  free/reduced       completed        40   81  61.714286   \n",
       "21    male  group A  free/reduced            none        28   79  57.133333   \n",
       "22    male  group A      standard       completed        46  100  72.583333   \n",
       "23    male  group A      standard            none        51   77  62.611111   \n",
       "24    male  group B  free/reduced       completed        49   87  67.250000   \n",
       "25    male  group B  free/reduced            none        40   75  56.157895   \n",
       "26    male  group B      standard       completed        51   94  73.560000   \n",
       "27    male  group B      standard            none        47   90  66.838710   \n",
       "28    male  group C  free/reduced       completed        40   79  58.600000   \n",
       "29    male  group C  free/reduced            none        49   80  64.178571   \n",
       "30    male  group C      standard       completed        51   98  77.285714   \n",
       "31    male  group C      standard            none        46   97  69.135593   \n",
       "32    male  group D  free/reduced       completed        55   84  71.000000   \n",
       "33    male  group D  free/reduced            none        42   90  63.064516   \n",
       "34    male  group D      standard       completed        58   89  73.782609   \n",
       "35    male  group D      standard            none        40   95  70.843750   \n",
       "36    male  group E  free/reduced       completed        70   91  79.888889   \n",
       "37    male  group E  free/reduced            none        46   93  69.600000   \n",
       "38    male  group E      standard       completed        62   99  79.863636   \n",
       "39    male  group E      standard            none        53   97  77.344828   \n",
       "\n",
       "               \n",
       "          std  \n",
       "0   21.548395  \n",
       "1    8.082904  \n",
       "2    8.635475  \n",
       "3    7.867752  \n",
       "4   10.359979  \n",
       "5   14.205633  \n",
       "6    7.258190  \n",
       "7   13.906399  \n",
       "8   10.756756  \n",
       "9   13.167592  \n",
       "10  11.592753  \n",
       "11  12.069784  \n",
       "12  14.982358  \n",
       "13  14.626092  \n",
       "14   8.634539  \n",
       "15  11.752812  \n",
       "16  17.174178  \n",
       "17  14.573378  \n",
       "18  12.151313  \n",
       "19  15.621840  \n",
       "20  16.059413  \n",
       "21  14.166695  \n",
       "22  17.312415  \n",
       "23   7.365571  \n",
       "24  13.068501  \n",
       "25  10.150332  \n",
       "26  12.325718  \n",
       "27  12.050164  \n",
       "28  11.245584  \n",
       "29   8.463663  \n",
       "30  13.745995  \n",
       "31  12.608779  \n",
       "32   9.015139  \n",
       "33  11.386938  \n",
       "34   8.800602  \n",
       "35  13.930917  \n",
       "36   6.827233  \n",
       "37  21.007142  \n",
       "38  10.521160  \n",
       "39  11.814869  "
      ]
     },
     "execution_count": 35,
     "metadata": {},
     "output_type": "execute_result"
    }
   ],
   "source": [
    "df_clean.groupby(\n",
    "    cat_cols, as_index=False\n",
    ").agg({\n",
    "    'mathScore':[\"min\",\"max\",\"mean\",\"std\"]\n",
    "})"
   ]
  },
  {
   "cell_type": "markdown",
   "metadata": {},
   "source": [
    "Crearemos un diccionario que contendra los valores minimos, maximos, promedio y desviacion estandar de todas las columnas numericas. Ademas crearemos un arreglo que contendra una lista de nombres, estos seran la columna numerica con el respectivo valor que contiene (minimo, maximo, promedio o desviacion estandar)"
   ]
  },
  {
   "cell_type": "code",
   "execution_count": 36,
   "metadata": {},
   "outputs": [],
   "source": [
    "summ_aggregations = {}\n",
    "cols_summ = []\n",
    "for c in num_cols:\n",
    "    summ_aggregations[c] = [\"min\",\"max\",\"mean\",\"std\"]\n",
    "    cols_summ.append(f\"{c}_min\")\n",
    "    cols_summ.append(f\"{c}_max\")\n",
    "    cols_summ.append(f\"{c}_mean\")\n",
    "    cols_summ.append(f\"{c}_std\")"
   ]
  },
  {
   "cell_type": "markdown",
   "metadata": {},
   "source": [
    "Creamos otro dataframe que contendra lo mismo del dataframe limpio, pero le agregaremos el diccionario anterior"
   ]
  },
  {
   "cell_type": "code",
   "execution_count": 37,
   "metadata": {},
   "outputs": [],
   "source": [
    "df_summ = df_clean.groupby(\n",
    "    cat_cols, as_index=False\n",
    ").agg(summ_aggregations)"
   ]
  },
  {
   "cell_type": "markdown",
   "metadata": {},
   "source": [
    "Cambiamos el nombre de las columnas con el arreglo anteriormente hecho"
   ]
  },
  {
   "cell_type": "code",
   "execution_count": 38,
   "metadata": {},
   "outputs": [],
   "source": [
    "df_summ.columns = cat_cols + cols_summ"
   ]
  },
  {
   "cell_type": "code",
   "execution_count": 75,
   "metadata": {},
   "outputs": [
    {
     "data": {
      "text/html": [
       "<div>\n",
       "<style scoped>\n",
       "    .dataframe tbody tr th:only-of-type {\n",
       "        vertical-align: middle;\n",
       "    }\n",
       "\n",
       "    .dataframe tbody tr th {\n",
       "        vertical-align: top;\n",
       "    }\n",
       "\n",
       "    .dataframe thead th {\n",
       "        text-align: right;\n",
       "    }\n",
       "</style>\n",
       "<table border=\"1\" class=\"dataframe\">\n",
       "  <thead>\n",
       "    <tr style=\"text-align: right;\">\n",
       "      <th></th>\n",
       "      <th>gender</th>\n",
       "      <th>race</th>\n",
       "      <th>lunch</th>\n",
       "      <th>testPreparation</th>\n",
       "      <th>mathScore_min</th>\n",
       "      <th>mathScore_max</th>\n",
       "      <th>mathScore_mean</th>\n",
       "      <th>mathScore_std</th>\n",
       "      <th>readingScore_min</th>\n",
       "      <th>readingScore_max</th>\n",
       "      <th>readingScore_mean</th>\n",
       "      <th>readingScore_std</th>\n",
       "      <th>writingScore_min</th>\n",
       "      <th>writingScore_max</th>\n",
       "      <th>writingScore_mean</th>\n",
       "      <th>writingScore_std</th>\n",
       "    </tr>\n",
       "  </thead>\n",
       "  <tbody>\n",
       "    <tr>\n",
       "      <th>0</th>\n",
       "      <td>female</td>\n",
       "      <td>group A</td>\n",
       "      <td>free/reduced</td>\n",
       "      <td>completed</td>\n",
       "      <td>34</td>\n",
       "      <td>77</td>\n",
       "      <td>54.666667</td>\n",
       "      <td>21.548395</td>\n",
       "      <td>48</td>\n",
       "      <td>88</td>\n",
       "      <td>62.000000</td>\n",
       "      <td>22.538855</td>\n",
       "      <td>41</td>\n",
       "      <td>85</td>\n",
       "      <td>62.000000</td>\n",
       "      <td>22.068076</td>\n",
       "    </tr>\n",
       "    <tr>\n",
       "      <th>1</th>\n",
       "      <td>female</td>\n",
       "      <td>group A</td>\n",
       "      <td>free/reduced</td>\n",
       "      <td>none</td>\n",
       "      <td>37</td>\n",
       "      <td>65</td>\n",
       "      <td>48.636364</td>\n",
       "      <td>9.394389</td>\n",
       "      <td>43</td>\n",
       "      <td>85</td>\n",
       "      <td>60.818182</td>\n",
       "      <td>12.172249</td>\n",
       "      <td>43</td>\n",
       "      <td>76</td>\n",
       "      <td>57.272727</td>\n",
       "      <td>11.118371</td>\n",
       "    </tr>\n",
       "  </tbody>\n",
       "</table>\n",
       "</div>"
      ],
      "text/plain": [
       "   gender     race         lunch testPreparation  mathScore_min  \\\n",
       "0  female  group A  free/reduced       completed             34   \n",
       "1  female  group A  free/reduced            none             37   \n",
       "\n",
       "   mathScore_max  mathScore_mean  mathScore_std  readingScore_min  \\\n",
       "0             77       54.666667      21.548395                48   \n",
       "1             65       48.636364       9.394389                43   \n",
       "\n",
       "   readingScore_max  readingScore_mean  readingScore_std  writingScore_min  \\\n",
       "0                88          62.000000         22.538855                41   \n",
       "1                85          60.818182         12.172249                43   \n",
       "\n",
       "   writingScore_max  writingScore_mean  writingScore_std  \n",
       "0                85          62.000000         22.068076  \n",
       "1                76          57.272727         11.118371  "
      ]
     },
     "execution_count": 75,
     "metadata": {},
     "output_type": "execute_result"
    }
   ],
   "source": [
    "df_summ.head(2)"
   ]
  },
  {
   "cell_type": "markdown",
   "metadata": {},
   "source": [
    "## Expandir el Dataset"
   ]
  },
  {
   "cell_type": "markdown",
   "metadata": {},
   "source": [
    "### Obtencion de Distribuciones probabilisticas\n",
    "\n",
    "Vamos a obtener las distribuciones probabilisticas. Esta sera la frecuencia con la que cada combinacion de categoria puede ocurrir. Nota: Como no tenemos un identificador unico en cada registro del dataset, vamos a usar una variable numerica para el conteo"
   ]
  },
  {
   "cell_type": "code",
   "execution_count": 40,
   "metadata": {},
   "outputs": [],
   "source": [
    "prob_freq = df.groupby(cat_cols, as_index=False).agg({\n",
    "    #Se utiliza el mathScore ya que el dataset no cuenta con un userID. \n",
    "    \"mathScore\": [\"count\"]\n",
    "})\n",
    "\n",
    "prob_freq.columns = cat_cols + [\"count\"]\n",
    "\n",
    "prob_freq[\"freq\"] = prob_freq[\"count\"] / df.shape[0]"
   ]
  },
  {
   "cell_type": "code",
   "execution_count": 41,
   "metadata": {},
   "outputs": [
    {
     "data": {
      "text/html": [
       "<div>\n",
       "<style scoped>\n",
       "    .dataframe tbody tr th:only-of-type {\n",
       "        vertical-align: middle;\n",
       "    }\n",
       "\n",
       "    .dataframe tbody tr th {\n",
       "        vertical-align: top;\n",
       "    }\n",
       "\n",
       "    .dataframe thead th {\n",
       "        text-align: right;\n",
       "    }\n",
       "</style>\n",
       "<table border=\"1\" class=\"dataframe\">\n",
       "  <thead>\n",
       "    <tr style=\"text-align: right;\">\n",
       "      <th></th>\n",
       "      <th>gender</th>\n",
       "      <th>race</th>\n",
       "      <th>lunch</th>\n",
       "      <th>testPreparation</th>\n",
       "      <th>count</th>\n",
       "      <th>freq</th>\n",
       "    </tr>\n",
       "  </thead>\n",
       "  <tbody>\n",
       "    <tr>\n",
       "      <th>0</th>\n",
       "      <td>female</td>\n",
       "      <td>group A</td>\n",
       "      <td>free/reduced</td>\n",
       "      <td>completed</td>\n",
       "      <td>3</td>\n",
       "      <td>0.003</td>\n",
       "    </tr>\n",
       "    <tr>\n",
       "      <th>1</th>\n",
       "      <td>female</td>\n",
       "      <td>group A</td>\n",
       "      <td>free/reduced</td>\n",
       "      <td>none</td>\n",
       "      <td>11</td>\n",
       "      <td>0.011</td>\n",
       "    </tr>\n",
       "    <tr>\n",
       "      <th>2</th>\n",
       "      <td>female</td>\n",
       "      <td>group A</td>\n",
       "      <td>standard</td>\n",
       "      <td>completed</td>\n",
       "      <td>9</td>\n",
       "      <td>0.009</td>\n",
       "    </tr>\n",
       "    <tr>\n",
       "      <th>3</th>\n",
       "      <td>female</td>\n",
       "      <td>group A</td>\n",
       "      <td>standard</td>\n",
       "      <td>none</td>\n",
       "      <td>13</td>\n",
       "      <td>0.013</td>\n",
       "    </tr>\n",
       "    <tr>\n",
       "      <th>4</th>\n",
       "      <td>female</td>\n",
       "      <td>group B</td>\n",
       "      <td>free/reduced</td>\n",
       "      <td>completed</td>\n",
       "      <td>17</td>\n",
       "      <td>0.017</td>\n",
       "    </tr>\n",
       "    <tr>\n",
       "      <th>5</th>\n",
       "      <td>female</td>\n",
       "      <td>group B</td>\n",
       "      <td>free/reduced</td>\n",
       "      <td>none</td>\n",
       "      <td>22</td>\n",
       "      <td>0.022</td>\n",
       "    </tr>\n",
       "    <tr>\n",
       "      <th>6</th>\n",
       "      <td>female</td>\n",
       "      <td>group B</td>\n",
       "      <td>standard</td>\n",
       "      <td>completed</td>\n",
       "      <td>18</td>\n",
       "      <td>0.018</td>\n",
       "    </tr>\n",
       "    <tr>\n",
       "      <th>7</th>\n",
       "      <td>female</td>\n",
       "      <td>group B</td>\n",
       "      <td>standard</td>\n",
       "      <td>none</td>\n",
       "      <td>47</td>\n",
       "      <td>0.047</td>\n",
       "    </tr>\n",
       "    <tr>\n",
       "      <th>8</th>\n",
       "      <td>female</td>\n",
       "      <td>group C</td>\n",
       "      <td>free/reduced</td>\n",
       "      <td>completed</td>\n",
       "      <td>23</td>\n",
       "      <td>0.023</td>\n",
       "    </tr>\n",
       "    <tr>\n",
       "      <th>9</th>\n",
       "      <td>female</td>\n",
       "      <td>group C</td>\n",
       "      <td>free/reduced</td>\n",
       "      <td>none</td>\n",
       "      <td>39</td>\n",
       "      <td>0.039</td>\n",
       "    </tr>\n",
       "    <tr>\n",
       "      <th>10</th>\n",
       "      <td>female</td>\n",
       "      <td>group C</td>\n",
       "      <td>standard</td>\n",
       "      <td>completed</td>\n",
       "      <td>46</td>\n",
       "      <td>0.046</td>\n",
       "    </tr>\n",
       "    <tr>\n",
       "      <th>11</th>\n",
       "      <td>female</td>\n",
       "      <td>group C</td>\n",
       "      <td>standard</td>\n",
       "      <td>none</td>\n",
       "      <td>72</td>\n",
       "      <td>0.072</td>\n",
       "    </tr>\n",
       "    <tr>\n",
       "      <th>12</th>\n",
       "      <td>female</td>\n",
       "      <td>group D</td>\n",
       "      <td>free/reduced</td>\n",
       "      <td>completed</td>\n",
       "      <td>20</td>\n",
       "      <td>0.020</td>\n",
       "    </tr>\n",
       "    <tr>\n",
       "      <th>13</th>\n",
       "      <td>female</td>\n",
       "      <td>group D</td>\n",
       "      <td>free/reduced</td>\n",
       "      <td>none</td>\n",
       "      <td>31</td>\n",
       "      <td>0.031</td>\n",
       "    </tr>\n",
       "    <tr>\n",
       "      <th>14</th>\n",
       "      <td>female</td>\n",
       "      <td>group D</td>\n",
       "      <td>standard</td>\n",
       "      <td>completed</td>\n",
       "      <td>24</td>\n",
       "      <td>0.024</td>\n",
       "    </tr>\n",
       "    <tr>\n",
       "      <th>15</th>\n",
       "      <td>female</td>\n",
       "      <td>group D</td>\n",
       "      <td>standard</td>\n",
       "      <td>none</td>\n",
       "      <td>54</td>\n",
       "      <td>0.054</td>\n",
       "    </tr>\n",
       "    <tr>\n",
       "      <th>16</th>\n",
       "      <td>female</td>\n",
       "      <td>group E</td>\n",
       "      <td>free/reduced</td>\n",
       "      <td>completed</td>\n",
       "      <td>7</td>\n",
       "      <td>0.007</td>\n",
       "    </tr>\n",
       "    <tr>\n",
       "      <th>17</th>\n",
       "      <td>female</td>\n",
       "      <td>group E</td>\n",
       "      <td>free/reduced</td>\n",
       "      <td>none</td>\n",
       "      <td>16</td>\n",
       "      <td>0.016</td>\n",
       "    </tr>\n",
       "    <tr>\n",
       "      <th>18</th>\n",
       "      <td>female</td>\n",
       "      <td>group E</td>\n",
       "      <td>standard</td>\n",
       "      <td>completed</td>\n",
       "      <td>17</td>\n",
       "      <td>0.017</td>\n",
       "    </tr>\n",
       "    <tr>\n",
       "      <th>19</th>\n",
       "      <td>female</td>\n",
       "      <td>group E</td>\n",
       "      <td>standard</td>\n",
       "      <td>none</td>\n",
       "      <td>29</td>\n",
       "      <td>0.029</td>\n",
       "    </tr>\n",
       "    <tr>\n",
       "      <th>20</th>\n",
       "      <td>male</td>\n",
       "      <td>group A</td>\n",
       "      <td>free/reduced</td>\n",
       "      <td>completed</td>\n",
       "      <td>7</td>\n",
       "      <td>0.007</td>\n",
       "    </tr>\n",
       "    <tr>\n",
       "      <th>21</th>\n",
       "      <td>male</td>\n",
       "      <td>group A</td>\n",
       "      <td>free/reduced</td>\n",
       "      <td>none</td>\n",
       "      <td>15</td>\n",
       "      <td>0.015</td>\n",
       "    </tr>\n",
       "    <tr>\n",
       "      <th>22</th>\n",
       "      <td>male</td>\n",
       "      <td>group A</td>\n",
       "      <td>standard</td>\n",
       "      <td>completed</td>\n",
       "      <td>12</td>\n",
       "      <td>0.012</td>\n",
       "    </tr>\n",
       "    <tr>\n",
       "      <th>23</th>\n",
       "      <td>male</td>\n",
       "      <td>group A</td>\n",
       "      <td>standard</td>\n",
       "      <td>none</td>\n",
       "      <td>19</td>\n",
       "      <td>0.019</td>\n",
       "    </tr>\n",
       "    <tr>\n",
       "      <th>24</th>\n",
       "      <td>male</td>\n",
       "      <td>group B</td>\n",
       "      <td>free/reduced</td>\n",
       "      <td>completed</td>\n",
       "      <td>8</td>\n",
       "      <td>0.008</td>\n",
       "    </tr>\n",
       "    <tr>\n",
       "      <th>25</th>\n",
       "      <td>male</td>\n",
       "      <td>group B</td>\n",
       "      <td>free/reduced</td>\n",
       "      <td>none</td>\n",
       "      <td>22</td>\n",
       "      <td>0.022</td>\n",
       "    </tr>\n",
       "    <tr>\n",
       "      <th>26</th>\n",
       "      <td>male</td>\n",
       "      <td>group B</td>\n",
       "      <td>standard</td>\n",
       "      <td>completed</td>\n",
       "      <td>25</td>\n",
       "      <td>0.025</td>\n",
       "    </tr>\n",
       "    <tr>\n",
       "      <th>27</th>\n",
       "      <td>male</td>\n",
       "      <td>group B</td>\n",
       "      <td>standard</td>\n",
       "      <td>none</td>\n",
       "      <td>31</td>\n",
       "      <td>0.031</td>\n",
       "    </tr>\n",
       "    <tr>\n",
       "      <th>28</th>\n",
       "      <td>male</td>\n",
       "      <td>group C</td>\n",
       "      <td>free/reduced</td>\n",
       "      <td>completed</td>\n",
       "      <td>20</td>\n",
       "      <td>0.020</td>\n",
       "    </tr>\n",
       "    <tr>\n",
       "      <th>29</th>\n",
       "      <td>male</td>\n",
       "      <td>group C</td>\n",
       "      <td>free/reduced</td>\n",
       "      <td>none</td>\n",
       "      <td>32</td>\n",
       "      <td>0.032</td>\n",
       "    </tr>\n",
       "    <tr>\n",
       "      <th>30</th>\n",
       "      <td>male</td>\n",
       "      <td>group C</td>\n",
       "      <td>standard</td>\n",
       "      <td>completed</td>\n",
       "      <td>28</td>\n",
       "      <td>0.028</td>\n",
       "    </tr>\n",
       "    <tr>\n",
       "      <th>31</th>\n",
       "      <td>male</td>\n",
       "      <td>group C</td>\n",
       "      <td>standard</td>\n",
       "      <td>none</td>\n",
       "      <td>59</td>\n",
       "      <td>0.059</td>\n",
       "    </tr>\n",
       "    <tr>\n",
       "      <th>32</th>\n",
       "      <td>male</td>\n",
       "      <td>group D</td>\n",
       "      <td>free/reduced</td>\n",
       "      <td>completed</td>\n",
       "      <td>13</td>\n",
       "      <td>0.013</td>\n",
       "    </tr>\n",
       "    <tr>\n",
       "      <th>33</th>\n",
       "      <td>male</td>\n",
       "      <td>group D</td>\n",
       "      <td>free/reduced</td>\n",
       "      <td>none</td>\n",
       "      <td>31</td>\n",
       "      <td>0.031</td>\n",
       "    </tr>\n",
       "    <tr>\n",
       "      <th>34</th>\n",
       "      <td>male</td>\n",
       "      <td>group D</td>\n",
       "      <td>standard</td>\n",
       "      <td>completed</td>\n",
       "      <td>25</td>\n",
       "      <td>0.025</td>\n",
       "    </tr>\n",
       "    <tr>\n",
       "      <th>35</th>\n",
       "      <td>male</td>\n",
       "      <td>group D</td>\n",
       "      <td>standard</td>\n",
       "      <td>none</td>\n",
       "      <td>64</td>\n",
       "      <td>0.064</td>\n",
       "    </tr>\n",
       "    <tr>\n",
       "      <th>36</th>\n",
       "      <td>male</td>\n",
       "      <td>group E</td>\n",
       "      <td>free/reduced</td>\n",
       "      <td>completed</td>\n",
       "      <td>13</td>\n",
       "      <td>0.013</td>\n",
       "    </tr>\n",
       "    <tr>\n",
       "      <th>37</th>\n",
       "      <td>male</td>\n",
       "      <td>group E</td>\n",
       "      <td>free/reduced</td>\n",
       "      <td>none</td>\n",
       "      <td>5</td>\n",
       "      <td>0.005</td>\n",
       "    </tr>\n",
       "    <tr>\n",
       "      <th>38</th>\n",
       "      <td>male</td>\n",
       "      <td>group E</td>\n",
       "      <td>standard</td>\n",
       "      <td>completed</td>\n",
       "      <td>23</td>\n",
       "      <td>0.023</td>\n",
       "    </tr>\n",
       "    <tr>\n",
       "      <th>39</th>\n",
       "      <td>male</td>\n",
       "      <td>group E</td>\n",
       "      <td>standard</td>\n",
       "      <td>none</td>\n",
       "      <td>30</td>\n",
       "      <td>0.030</td>\n",
       "    </tr>\n",
       "  </tbody>\n",
       "</table>\n",
       "</div>"
      ],
      "text/plain": [
       "    gender     race         lunch testPreparation  count   freq\n",
       "0   female  group A  free/reduced       completed      3  0.003\n",
       "1   female  group A  free/reduced            none     11  0.011\n",
       "2   female  group A      standard       completed      9  0.009\n",
       "3   female  group A      standard            none     13  0.013\n",
       "4   female  group B  free/reduced       completed     17  0.017\n",
       "5   female  group B  free/reduced            none     22  0.022\n",
       "6   female  group B      standard       completed     18  0.018\n",
       "7   female  group B      standard            none     47  0.047\n",
       "8   female  group C  free/reduced       completed     23  0.023\n",
       "9   female  group C  free/reduced            none     39  0.039\n",
       "10  female  group C      standard       completed     46  0.046\n",
       "11  female  group C      standard            none     72  0.072\n",
       "12  female  group D  free/reduced       completed     20  0.020\n",
       "13  female  group D  free/reduced            none     31  0.031\n",
       "14  female  group D      standard       completed     24  0.024\n",
       "15  female  group D      standard            none     54  0.054\n",
       "16  female  group E  free/reduced       completed      7  0.007\n",
       "17  female  group E  free/reduced            none     16  0.016\n",
       "18  female  group E      standard       completed     17  0.017\n",
       "19  female  group E      standard            none     29  0.029\n",
       "20    male  group A  free/reduced       completed      7  0.007\n",
       "21    male  group A  free/reduced            none     15  0.015\n",
       "22    male  group A      standard       completed     12  0.012\n",
       "23    male  group A      standard            none     19  0.019\n",
       "24    male  group B  free/reduced       completed      8  0.008\n",
       "25    male  group B  free/reduced            none     22  0.022\n",
       "26    male  group B      standard       completed     25  0.025\n",
       "27    male  group B      standard            none     31  0.031\n",
       "28    male  group C  free/reduced       completed     20  0.020\n",
       "29    male  group C  free/reduced            none     32  0.032\n",
       "30    male  group C      standard       completed     28  0.028\n",
       "31    male  group C      standard            none     59  0.059\n",
       "32    male  group D  free/reduced       completed     13  0.013\n",
       "33    male  group D  free/reduced            none     31  0.031\n",
       "34    male  group D      standard       completed     25  0.025\n",
       "35    male  group D      standard            none     64  0.064\n",
       "36    male  group E  free/reduced       completed     13  0.013\n",
       "37    male  group E  free/reduced            none      5  0.005\n",
       "38    male  group E      standard       completed     23  0.023\n",
       "39    male  group E      standard            none     30  0.030"
      ]
     },
     "execution_count": 41,
     "metadata": {},
     "output_type": "execute_result"
    }
   ],
   "source": [
    "prob_freq"
   ]
  },
  {
   "cell_type": "code",
   "execution_count": 44,
   "metadata": {},
   "outputs": [],
   "source": [
    "cant_expnd = 100000"
   ]
  },
  {
   "cell_type": "markdown",
   "metadata": {},
   "source": [
    "\n",
    "\n",
    "En el siguiente bloque de codigo vamos a hacer identificadores unicos por cada combinacion de categorias que tengamos. Esto se hara con la funcion np.random.choice y vamos a usar el valor prob_freq.index para estos ids.\n"
   ]
  },
  {
   "cell_type": "code",
   "execution_count": 46,
   "metadata": {},
   "outputs": [],
   "source": [
    "ids = np.random.choice(prob_freq.index, size=cant_expnd, p=prob_freq[\"freq\"].to_list())"
   ]
  },
  {
   "cell_type": "markdown",
   "metadata": {},
   "source": [
    "\n",
    "\n",
    "El prob_freq.index podemos decirlo que es como un for in range. Tenemos el valor de start que es desde donde comenzara, el stop que es donde se va a detener y el step que sera el incremento que tendra\n"
   ]
  },
  {
   "cell_type": "code",
   "execution_count": 74,
   "metadata": {},
   "outputs": [
    {
     "data": {
      "text/plain": [
       "RangeIndex(start=0, stop=40, step=1)"
      ]
     },
     "execution_count": 74,
     "metadata": {},
     "output_type": "execute_result"
    }
   ],
   "source": [
    "prob_freq.index"
   ]
  },
  {
   "cell_type": "markdown",
   "metadata": {},
   "source": [
    "\n",
    "\n",
    "Aqui tenemos un poco el ejemplo de como funcionara la expansion. Se explicaran los siguientes 3 bloques de codigo\n",
    "\n",
    "1. Esta sera la cantidad de valores simulados que tendra la primera combinacion de las categorias.\n",
    "2. Este es la cantidad total de los valores simulados.\n",
    "3. Esta es la proporcion con la que se hara.\n",
    "\n"
   ]
  },
  {
   "cell_type": "code",
   "execution_count": 72,
   "metadata": {},
   "outputs": [
    {
     "data": {
      "text/plain": [
       "265"
      ]
     },
     "execution_count": 72,
     "metadata": {},
     "output_type": "execute_result"
    }
   ],
   "source": [
    "len(ids[ids==0])"
   ]
  },
  {
   "cell_type": "code",
   "execution_count": 48,
   "metadata": {},
   "outputs": [
    {
     "data": {
      "text/plain": [
       "100000"
      ]
     },
     "execution_count": 48,
     "metadata": {},
     "output_type": "execute_result"
    }
   ],
   "source": [
    "len(ids)"
   ]
  },
  {
   "cell_type": "code",
   "execution_count": 73,
   "metadata": {},
   "outputs": [
    {
     "data": {
      "text/plain": [
       "0.00265"
      ]
     },
     "execution_count": 73,
     "metadata": {},
     "output_type": "execute_result"
    }
   ],
   "source": [
    "len(ids[ids==0])/len(ids)"
   ]
  },
  {
   "cell_type": "markdown",
   "metadata": {},
   "source": [
    "Definimos una funcion para utilizar la funcion truncnorm.rvs(). Con esta funcion vamos a simular nuestro dataset"
   ]
  },
  {
   "cell_type": "code",
   "execution_count": 50,
   "metadata": {},
   "outputs": [],
   "source": [
    "def trunc_vector(min_val, max_val, media, desv_std,size):\n",
    "    a,b = (min_val - media) / desv_std, (max_val - media) / desv_std\n",
    "    muestras = truncnorm.rvs(a,b,loc=media,scale=desv_std,size=size)\n",
    "\n",
    "    return muestras"
   ]
  },
  {
   "cell_type": "code",
   "execution_count": 71,
   "metadata": {},
   "outputs": [
    {
     "data": {
      "text/html": [
       "<div>\n",
       "<style scoped>\n",
       "    .dataframe tbody tr th:only-of-type {\n",
       "        vertical-align: middle;\n",
       "    }\n",
       "\n",
       "    .dataframe tbody tr th {\n",
       "        vertical-align: top;\n",
       "    }\n",
       "\n",
       "    .dataframe thead th {\n",
       "        text-align: right;\n",
       "    }\n",
       "</style>\n",
       "<table border=\"1\" class=\"dataframe\">\n",
       "  <thead>\n",
       "    <tr style=\"text-align: right;\">\n",
       "      <th></th>\n",
       "      <th>gender</th>\n",
       "      <th>race</th>\n",
       "      <th>lunch</th>\n",
       "      <th>testPreparation</th>\n",
       "      <th>mathScore_min</th>\n",
       "      <th>mathScore_max</th>\n",
       "      <th>mathScore_mean</th>\n",
       "      <th>mathScore_std</th>\n",
       "      <th>readingScore_min</th>\n",
       "      <th>readingScore_max</th>\n",
       "      <th>readingScore_mean</th>\n",
       "      <th>readingScore_std</th>\n",
       "      <th>writingScore_min</th>\n",
       "      <th>writingScore_max</th>\n",
       "      <th>writingScore_mean</th>\n",
       "      <th>writingScore_std</th>\n",
       "    </tr>\n",
       "  </thead>\n",
       "  <tbody>\n",
       "    <tr>\n",
       "      <th>0</th>\n",
       "      <td>female</td>\n",
       "      <td>group A</td>\n",
       "      <td>free/reduced</td>\n",
       "      <td>completed</td>\n",
       "      <td>34</td>\n",
       "      <td>77</td>\n",
       "      <td>54.666667</td>\n",
       "      <td>21.548395</td>\n",
       "      <td>48</td>\n",
       "      <td>88</td>\n",
       "      <td>62.000000</td>\n",
       "      <td>22.538855</td>\n",
       "      <td>41</td>\n",
       "      <td>85</td>\n",
       "      <td>62.000000</td>\n",
       "      <td>22.068076</td>\n",
       "    </tr>\n",
       "    <tr>\n",
       "      <th>1</th>\n",
       "      <td>female</td>\n",
       "      <td>group A</td>\n",
       "      <td>free/reduced</td>\n",
       "      <td>none</td>\n",
       "      <td>37</td>\n",
       "      <td>65</td>\n",
       "      <td>48.636364</td>\n",
       "      <td>9.394389</td>\n",
       "      <td>43</td>\n",
       "      <td>85</td>\n",
       "      <td>60.818182</td>\n",
       "      <td>12.172249</td>\n",
       "      <td>43</td>\n",
       "      <td>76</td>\n",
       "      <td>57.272727</td>\n",
       "      <td>11.118371</td>\n",
       "    </tr>\n",
       "  </tbody>\n",
       "</table>\n",
       "</div>"
      ],
      "text/plain": [
       "   gender     race         lunch testPreparation  mathScore_min  \\\n",
       "0  female  group A  free/reduced       completed             34   \n",
       "1  female  group A  free/reduced            none             37   \n",
       "\n",
       "   mathScore_max  mathScore_mean  mathScore_std  readingScore_min  \\\n",
       "0             77       54.666667      21.548395                48   \n",
       "1             65       48.636364       9.394389                43   \n",
       "\n",
       "   readingScore_max  readingScore_mean  readingScore_std  writingScore_min  \\\n",
       "0                88          62.000000         22.538855                41   \n",
       "1                85          60.818182         12.172249                43   \n",
       "\n",
       "   writingScore_max  writingScore_mean  writingScore_std  \n",
       "0                85          62.000000         22.068076  \n",
       "1                76          57.272727         11.118371  "
      ]
     },
     "execution_count": 71,
     "metadata": {},
     "output_type": "execute_result"
    }
   ],
   "source": [
    "df_summ.head(2)"
   ]
  },
  {
   "cell_type": "markdown",
   "metadata": {},
   "source": [
    "\n",
    "\n",
    "El siguiente bloque de codigo contiene la expansion del dataset. Vamos a definir un dataframe donde lo vamos a almacenar, y vamos a realizar un ciclo for para recorrer por la cantidad de combinaciones de categorias que tenemos. Vamos a iniciar con un diccionario que contendra el id de la combinacion de la categoria. El siguiente ciclo for, anidado al primero sera para recorrer por todas las categorias numericas, esto con el fin de utilizar nuestra funcion para usar el truncnorm.rvs(). Finalizando, vamos a obtener la cantidad de combinacion de categoria y asignarlo al registro al que este pertenece\n",
    "\n",
    "Por ultimo, este diccionario se lo asignaremos a un dataframe temporal, y se concatenan el temporal con el dataframe que contendra el dataframe extendido. Sera como un acumulador, por cada iteracion del ciclo\n"
   ]
  },
  {
   "cell_type": "code",
   "execution_count": 52,
   "metadata": {},
   "outputs": [],
   "source": [
    "df_extended = pd.DataFrame()\n",
    "\n",
    "for i in prob_freq.index:\n",
    "    setting = {\n",
    "        \"id\": ids[ids == i]\n",
    "    }\n",
    "    for c in num_cols:\n",
    "        setting[c] = trunc_vector(\n",
    "            df_summ.iloc[i][f\"{c}_min\"],\n",
    "            df_summ.iloc[i][f\"{c}_max\"],\n",
    "            df_summ.iloc[i][f\"{c}_mean\"],\n",
    "            df_summ.iloc[i][f\"{c}_std\"],\n",
    "            len(ids[ids==i])\n",
    "        )\n",
    "    \n",
    "    tmp = pd.DataFrame(setting)\n",
    "    df_extended = pd.concat([df_extended, tmp])"
   ]
  },
  {
   "cell_type": "markdown",
   "metadata": {},
   "source": [
    "Dataset Limpio"
   ]
  },
  {
   "cell_type": "code",
   "execution_count": 53,
   "metadata": {},
   "outputs": [
    {
     "data": {
      "text/html": [
       "<div>\n",
       "<style scoped>\n",
       "    .dataframe tbody tr th:only-of-type {\n",
       "        vertical-align: middle;\n",
       "    }\n",
       "\n",
       "    .dataframe tbody tr th {\n",
       "        vertical-align: top;\n",
       "    }\n",
       "\n",
       "    .dataframe thead th {\n",
       "        text-align: right;\n",
       "    }\n",
       "</style>\n",
       "<table border=\"1\" class=\"dataframe\">\n",
       "  <thead>\n",
       "    <tr style=\"text-align: right;\">\n",
       "      <th></th>\n",
       "      <th>mathScore</th>\n",
       "      <th>readingScore</th>\n",
       "      <th>writingScore</th>\n",
       "    </tr>\n",
       "  </thead>\n",
       "  <tbody>\n",
       "    <tr>\n",
       "      <th>count</th>\n",
       "      <td>963.000000</td>\n",
       "      <td>963.000000</td>\n",
       "      <td>963.000000</td>\n",
       "    </tr>\n",
       "    <tr>\n",
       "      <th>mean</th>\n",
       "      <td>66.467290</td>\n",
       "      <td>69.510903</td>\n",
       "      <td>68.400831</td>\n",
       "    </tr>\n",
       "    <tr>\n",
       "      <th>std</th>\n",
       "      <td>14.169516</td>\n",
       "      <td>13.753119</td>\n",
       "      <td>14.336514</td>\n",
       "    </tr>\n",
       "    <tr>\n",
       "      <th>min</th>\n",
       "      <td>22.000000</td>\n",
       "      <td>23.000000</td>\n",
       "      <td>19.000000</td>\n",
       "    </tr>\n",
       "    <tr>\n",
       "      <th>25%</th>\n",
       "      <td>57.000000</td>\n",
       "      <td>60.000000</td>\n",
       "      <td>58.000000</td>\n",
       "    </tr>\n",
       "    <tr>\n",
       "      <th>50%</th>\n",
       "      <td>66.000000</td>\n",
       "      <td>70.000000</td>\n",
       "      <td>69.000000</td>\n",
       "    </tr>\n",
       "    <tr>\n",
       "      <th>75%</th>\n",
       "      <td>76.000000</td>\n",
       "      <td>79.000000</td>\n",
       "      <td>79.000000</td>\n",
       "    </tr>\n",
       "    <tr>\n",
       "      <th>max</th>\n",
       "      <td>100.000000</td>\n",
       "      <td>100.000000</td>\n",
       "      <td>100.000000</td>\n",
       "    </tr>\n",
       "  </tbody>\n",
       "</table>\n",
       "</div>"
      ],
      "text/plain": [
       "        mathScore  readingScore  writingScore\n",
       "count  963.000000    963.000000    963.000000\n",
       "mean    66.467290     69.510903     68.400831\n",
       "std     14.169516     13.753119     14.336514\n",
       "min     22.000000     23.000000     19.000000\n",
       "25%     57.000000     60.000000     58.000000\n",
       "50%     66.000000     70.000000     69.000000\n",
       "75%     76.000000     79.000000     79.000000\n",
       "max    100.000000    100.000000    100.000000"
      ]
     },
     "execution_count": 53,
     "metadata": {},
     "output_type": "execute_result"
    }
   ],
   "source": [
    "df_clean.describe()"
   ]
  },
  {
   "cell_type": "code",
   "execution_count": 56,
   "metadata": {},
   "outputs": [],
   "source": [
    "prob_freq[\"id\"] = prob_freq.index"
   ]
  },
  {
   "cell_type": "code",
   "execution_count": 67,
   "metadata": {},
   "outputs": [
    {
     "data": {
      "text/html": [
       "<div>\n",
       "<style scoped>\n",
       "    .dataframe tbody tr th:only-of-type {\n",
       "        vertical-align: middle;\n",
       "    }\n",
       "\n",
       "    .dataframe tbody tr th {\n",
       "        vertical-align: top;\n",
       "    }\n",
       "\n",
       "    .dataframe thead th {\n",
       "        text-align: right;\n",
       "    }\n",
       "</style>\n",
       "<table border=\"1\" class=\"dataframe\">\n",
       "  <thead>\n",
       "    <tr style=\"text-align: right;\">\n",
       "      <th></th>\n",
       "      <th>id</th>\n",
       "      <th>gender</th>\n",
       "      <th>race</th>\n",
       "      <th>lunch</th>\n",
       "      <th>testPreparation</th>\n",
       "      <th>mathScore</th>\n",
       "      <th>readingScore</th>\n",
       "      <th>writingScore</th>\n",
       "    </tr>\n",
       "  </thead>\n",
       "  <tbody>\n",
       "    <tr>\n",
       "      <th>0</th>\n",
       "      <td>0</td>\n",
       "      <td>female</td>\n",
       "      <td>group A</td>\n",
       "      <td>free/reduced</td>\n",
       "      <td>completed</td>\n",
       "      <td>62.903248</td>\n",
       "      <td>72.605612</td>\n",
       "      <td>44.453648</td>\n",
       "    </tr>\n",
       "    <tr>\n",
       "      <th>1</th>\n",
       "      <td>0</td>\n",
       "      <td>female</td>\n",
       "      <td>group A</td>\n",
       "      <td>free/reduced</td>\n",
       "      <td>completed</td>\n",
       "      <td>66.359451</td>\n",
       "      <td>61.497867</td>\n",
       "      <td>54.166920</td>\n",
       "    </tr>\n",
       "    <tr>\n",
       "      <th>2</th>\n",
       "      <td>0</td>\n",
       "      <td>female</td>\n",
       "      <td>group A</td>\n",
       "      <td>free/reduced</td>\n",
       "      <td>completed</td>\n",
       "      <td>68.429052</td>\n",
       "      <td>81.085676</td>\n",
       "      <td>84.222967</td>\n",
       "    </tr>\n",
       "    <tr>\n",
       "      <th>3</th>\n",
       "      <td>0</td>\n",
       "      <td>female</td>\n",
       "      <td>group A</td>\n",
       "      <td>free/reduced</td>\n",
       "      <td>completed</td>\n",
       "      <td>69.981944</td>\n",
       "      <td>49.996947</td>\n",
       "      <td>47.401150</td>\n",
       "    </tr>\n",
       "    <tr>\n",
       "      <th>4</th>\n",
       "      <td>0</td>\n",
       "      <td>female</td>\n",
       "      <td>group A</td>\n",
       "      <td>free/reduced</td>\n",
       "      <td>completed</td>\n",
       "      <td>67.163721</td>\n",
       "      <td>64.536424</td>\n",
       "      <td>50.633059</td>\n",
       "    </tr>\n",
       "    <tr>\n",
       "      <th>...</th>\n",
       "      <td>...</td>\n",
       "      <td>...</td>\n",
       "      <td>...</td>\n",
       "      <td>...</td>\n",
       "      <td>...</td>\n",
       "      <td>...</td>\n",
       "      <td>...</td>\n",
       "      <td>...</td>\n",
       "    </tr>\n",
       "    <tr>\n",
       "      <th>99995</th>\n",
       "      <td>39</td>\n",
       "      <td>male</td>\n",
       "      <td>group E</td>\n",
       "      <td>standard</td>\n",
       "      <td>none</td>\n",
       "      <td>87.838511</td>\n",
       "      <td>83.398602</td>\n",
       "      <td>64.190314</td>\n",
       "    </tr>\n",
       "    <tr>\n",
       "      <th>99996</th>\n",
       "      <td>39</td>\n",
       "      <td>male</td>\n",
       "      <td>group E</td>\n",
       "      <td>standard</td>\n",
       "      <td>none</td>\n",
       "      <td>84.580693</td>\n",
       "      <td>75.128394</td>\n",
       "      <td>55.007286</td>\n",
       "    </tr>\n",
       "    <tr>\n",
       "      <th>99997</th>\n",
       "      <td>39</td>\n",
       "      <td>male</td>\n",
       "      <td>group E</td>\n",
       "      <td>standard</td>\n",
       "      <td>none</td>\n",
       "      <td>66.988970</td>\n",
       "      <td>70.374719</td>\n",
       "      <td>75.129829</td>\n",
       "    </tr>\n",
       "    <tr>\n",
       "      <th>99998</th>\n",
       "      <td>39</td>\n",
       "      <td>male</td>\n",
       "      <td>group E</td>\n",
       "      <td>standard</td>\n",
       "      <td>none</td>\n",
       "      <td>65.810428</td>\n",
       "      <td>68.146599</td>\n",
       "      <td>57.843302</td>\n",
       "    </tr>\n",
       "    <tr>\n",
       "      <th>99999</th>\n",
       "      <td>39</td>\n",
       "      <td>male</td>\n",
       "      <td>group E</td>\n",
       "      <td>standard</td>\n",
       "      <td>none</td>\n",
       "      <td>60.842263</td>\n",
       "      <td>68.058128</td>\n",
       "      <td>62.012503</td>\n",
       "    </tr>\n",
       "  </tbody>\n",
       "</table>\n",
       "<p>100000 rows × 8 columns</p>\n",
       "</div>"
      ],
      "text/plain": [
       "       id  gender     race         lunch testPreparation  mathScore  \\\n",
       "0       0  female  group A  free/reduced       completed  62.903248   \n",
       "1       0  female  group A  free/reduced       completed  66.359451   \n",
       "2       0  female  group A  free/reduced       completed  68.429052   \n",
       "3       0  female  group A  free/reduced       completed  69.981944   \n",
       "4       0  female  group A  free/reduced       completed  67.163721   \n",
       "...    ..     ...      ...           ...             ...        ...   \n",
       "99995  39    male  group E      standard            none  87.838511   \n",
       "99996  39    male  group E      standard            none  84.580693   \n",
       "99997  39    male  group E      standard            none  66.988970   \n",
       "99998  39    male  group E      standard            none  65.810428   \n",
       "99999  39    male  group E      standard            none  60.842263   \n",
       "\n",
       "       readingScore  writingScore  \n",
       "0         72.605612     44.453648  \n",
       "1         61.497867     54.166920  \n",
       "2         81.085676     84.222967  \n",
       "3         49.996947     47.401150  \n",
       "4         64.536424     50.633059  \n",
       "...             ...           ...  \n",
       "99995     83.398602     64.190314  \n",
       "99996     75.128394     55.007286  \n",
       "99997     70.374719     75.129829  \n",
       "99998     68.146599     57.843302  \n",
       "99999     68.058128     62.012503  \n",
       "\n",
       "[100000 rows x 8 columns]"
      ]
     },
     "execution_count": 67,
     "metadata": {},
     "output_type": "execute_result"
    }
   ],
   "source": [
    "extended = prob_freq.loc[:, [\"id\"] + cat_cols].merge(\n",
    "    df_extended, on=[\"id\"],how=\"inner\"\n",
    ")\n",
    "\n",
    "extended"
   ]
  },
  {
   "cell_type": "markdown",
   "metadata": {},
   "source": [
    "# __Informe Final__"
   ]
  },
  {
   "cell_type": "markdown",
   "metadata": {},
   "source": [
    "### Corte categorico #1 DataSet Expandido"
   ]
  },
  {
   "cell_type": "code",
   "execution_count": 64,
   "metadata": {},
   "outputs": [
    {
     "data": {
      "image/png": "[encoded data removed]",
      "text/plain": [
       "<Figure size 640x480 with 1 Axes>"
      ]
     },
     "metadata": {},
     "output_type": "display_data"
    }
   ],
   "source": [
    "extended.loc[(extended[\"gender\"]=='male')\n",
    "       & (extended[\"race\"]=='group A')\n",
    "       & (extended['testPreparation']=='none'),[\"mathScore\"]].boxplot()\n",
    "\n",
    "plt.show()"
   ]
  },
  {
   "cell_type": "markdown",
   "metadata": {},
   "source": [
    "### Corte categorico #2 DataSet Expandido"
   ]
  },
  {
   "cell_type": "code",
   "execution_count": 65,
   "metadata": {},
   "outputs": [
    {
     "data": {
      "image/png": "[encoded data removed]",
      "text/plain": [
       "<Figure size 640x480 with 1 Axes>"
      ]
     },
     "metadata": {},
     "output_type": "display_data"
    }
   ],
   "source": [
    "extended.loc[(extended[\"gender\"]=='female')\n",
    "       & (extended[\"race\"]=='group B')\n",
    "       & (extended['testPreparation']=='none'),[\"mathScore\"]].boxplot()\n",
    "plt.show()"
   ]
  },
  {
   "cell_type": "markdown",
   "metadata": {},
   "source": [
    "### Descripción columnas númericas DataSet original"
   ]
  },
  {
   "cell_type": "code",
   "execution_count": null,
   "metadata": {},
   "outputs": [
    {
     "data": {
      "text/html": [
       "<div>\n",
       "<style scoped>\n",
       "    .dataframe tbody tr th:only-of-type {\n",
       "        vertical-align: middle;\n",
       "    }\n",
       "\n",
       "    .dataframe tbody tr th {\n",
       "        vertical-align: top;\n",
       "    }\n",
       "\n",
       "    .dataframe thead th {\n",
       "        text-align: right;\n",
       "    }\n",
       "</style>\n",
       "<table border=\"1\" class=\"dataframe\">\n",
       "  <thead>\n",
       "    <tr style=\"text-align: right;\">\n",
       "      <th></th>\n",
       "      <th>mathScore</th>\n",
       "      <th>readingScore</th>\n",
       "      <th>writingScore</th>\n",
       "    </tr>\n",
       "  </thead>\n",
       "  <tbody>\n",
       "    <tr>\n",
       "      <th>count</th>\n",
       "      <td>1000.00000</td>\n",
       "      <td>1000.000000</td>\n",
       "      <td>1000.000000</td>\n",
       "    </tr>\n",
       "    <tr>\n",
       "      <th>mean</th>\n",
       "      <td>66.08900</td>\n",
       "      <td>69.169000</td>\n",
       "      <td>68.054000</td>\n",
       "    </tr>\n",
       "    <tr>\n",
       "      <th>std</th>\n",
       "      <td>15.16308</td>\n",
       "      <td>14.600192</td>\n",
       "      <td>15.195657</td>\n",
       "    </tr>\n",
       "    <tr>\n",
       "      <th>min</th>\n",
       "      <td>0.00000</td>\n",
       "      <td>17.000000</td>\n",
       "      <td>10.000000</td>\n",
       "    </tr>\n",
       "    <tr>\n",
       "      <th>25%</th>\n",
       "      <td>57.00000</td>\n",
       "      <td>59.000000</td>\n",
       "      <td>57.750000</td>\n",
       "    </tr>\n",
       "    <tr>\n",
       "      <th>50%</th>\n",
       "      <td>66.00000</td>\n",
       "      <td>70.000000</td>\n",
       "      <td>69.000000</td>\n",
       "    </tr>\n",
       "    <tr>\n",
       "      <th>75%</th>\n",
       "      <td>77.00000</td>\n",
       "      <td>79.000000</td>\n",
       "      <td>79.000000</td>\n",
       "    </tr>\n",
       "    <tr>\n",
       "      <th>max</th>\n",
       "      <td>100.00000</td>\n",
       "      <td>100.000000</td>\n",
       "      <td>100.000000</td>\n",
       "    </tr>\n",
       "  </tbody>\n",
       "</table>\n",
       "</div>"
      ],
      "text/plain": [
       "        mathScore  readingScore  writingScore\n",
       "count  1000.00000   1000.000000   1000.000000\n",
       "mean     66.08900     69.169000     68.054000\n",
       "std      15.16308     14.600192     15.195657\n",
       "min       0.00000     17.000000     10.000000\n",
       "25%      57.00000     59.000000     57.750000\n",
       "50%      66.00000     70.000000     69.000000\n",
       "75%      77.00000     79.000000     79.000000\n",
       "max     100.00000    100.000000    100.000000"
      ]
     },
     "execution_count": 70,
     "metadata": {},
     "output_type": "execute_result"
    }
   ],
   "source": [
    "df[num_cols].describe()"
   ]
  },
  {
   "cell_type": "markdown",
   "metadata": {},
   "source": [
    "### Descripción columnas númericas DataSet Simulado"
   ]
  },
  {
   "cell_type": "code",
   "execution_count": 66,
   "metadata": {},
   "outputs": [
    {
     "data": {
      "text/html": [
       "<div>\n",
       "<style scoped>\n",
       "    .dataframe tbody tr th:only-of-type {\n",
       "        vertical-align: middle;\n",
       "    }\n",
       "\n",
       "    .dataframe tbody tr th {\n",
       "        vertical-align: top;\n",
       "    }\n",
       "\n",
       "    .dataframe thead th {\n",
       "        text-align: right;\n",
       "    }\n",
       "</style>\n",
       "<table border=\"1\" class=\"dataframe\">\n",
       "  <thead>\n",
       "    <tr style=\"text-align: right;\">\n",
       "      <th></th>\n",
       "      <th>id</th>\n",
       "      <th>mathScore</th>\n",
       "      <th>readingScore</th>\n",
       "      <th>writingScore</th>\n",
       "    </tr>\n",
       "  </thead>\n",
       "  <tbody>\n",
       "    <tr>\n",
       "      <th>count</th>\n",
       "      <td>100000.00000</td>\n",
       "      <td>100000.000000</td>\n",
       "      <td>100000.000000</td>\n",
       "      <td>100000.000000</td>\n",
       "    </tr>\n",
       "    <tr>\n",
       "      <th>mean</th>\n",
       "      <td>20.20206</td>\n",
       "      <td>66.408724</td>\n",
       "      <td>69.354097</td>\n",
       "      <td>68.330068</td>\n",
       "    </tr>\n",
       "    <tr>\n",
       "      <th>std</th>\n",
       "      <td>11.10803</td>\n",
       "      <td>12.780793</td>\n",
       "      <td>12.282666</td>\n",
       "      <td>13.004500</td>\n",
       "    </tr>\n",
       "    <tr>\n",
       "      <th>min</th>\n",
       "      <td>0.00000</td>\n",
       "      <td>22.044135</td>\n",
       "      <td>23.127163</td>\n",
       "      <td>19.052439</td>\n",
       "    </tr>\n",
       "    <tr>\n",
       "      <th>25%</th>\n",
       "      <td>10.00000</td>\n",
       "      <td>57.707996</td>\n",
       "      <td>60.820059</td>\n",
       "      <td>59.171269</td>\n",
       "    </tr>\n",
       "    <tr>\n",
       "      <th>50%</th>\n",
       "      <td>19.00000</td>\n",
       "      <td>66.621770</td>\n",
       "      <td>69.781932</td>\n",
       "      <td>68.671727</td>\n",
       "    </tr>\n",
       "    <tr>\n",
       "      <th>75%</th>\n",
       "      <td>31.00000</td>\n",
       "      <td>75.381089</td>\n",
       "      <td>78.217916</td>\n",
       "      <td>77.904796</td>\n",
       "    </tr>\n",
       "    <tr>\n",
       "      <th>max</th>\n",
       "      <td>39.00000</td>\n",
       "      <td>99.986098</td>\n",
       "      <td>99.998726</td>\n",
       "      <td>99.996722</td>\n",
       "    </tr>\n",
       "  </tbody>\n",
       "</table>\n",
       "</div>"
      ],
      "text/plain": [
       "                 id      mathScore   readingScore   writingScore\n",
       "count  100000.00000  100000.000000  100000.000000  100000.000000\n",
       "mean       20.20206      66.408724      69.354097      68.330068\n",
       "std        11.10803      12.780793      12.282666      13.004500\n",
       "min         0.00000      22.044135      23.127163      19.052439\n",
       "25%        10.00000      57.707996      60.820059      59.171269\n",
       "50%        19.00000      66.621770      69.781932      68.671727\n",
       "75%        31.00000      75.381089      78.217916      77.904796\n",
       "max        39.00000      99.986098      99.998726      99.996722"
      ]
     },
     "execution_count": 66,
     "metadata": {},
     "output_type": "execute_result"
    }
   ],
   "source": [
    "df_extended.describe()"
   ]
  },
  {
   "cell_type": "markdown",
   "metadata": {},
   "source": [
    "### Boxplots DataSet original"
   ]
  },
  {
   "cell_type": "code",
   "execution_count": null,
   "metadata": {},
   "outputs": [
    {
     "data": {
      "image/png": "[encoded data removed]",
      "text/plain": [
       "<Figure size 640x480 with 1 Axes>"
      ]
     },
     "metadata": {},
     "output_type": "display_data"
    },
    {
     "data": {
      "image/png": "[encoded data removed]",
      "text/plain": [
       "<Figure size 640x480 with 1 Axes>"
      ]
     },
     "metadata": {},
     "output_type": "display_data"
    },
    {
     "data": {
      "image/png": "[encoded data removed]",
      "text/plain": [
       "<Figure size 640x480 with 1 Axes>"
      ]
     },
     "metadata": {},
     "output_type": "display_data"
    }
   ],
   "source": [
    "for c in num_cols:\n",
    "    df.loc[:,[c]].boxplot()\n",
    "    plt.show()"
   ]
  },
  {
   "cell_type": "markdown",
   "metadata": {},
   "source": [
    "### Boxplots DataSet expandido"
   ]
  },
  {
   "cell_type": "code",
   "execution_count": null,
   "metadata": {},
   "outputs": [
    {
     "data": {
      "image/png": "[encoded data removed]",
      "text/plain": [
       "<Figure size 640x480 with 1 Axes>"
      ]
     },
     "metadata": {},
     "output_type": "display_data"
    },
    {
     "data": {
      "image/png": "[encoded data removed]",
      "text/plain": [
       "<Figure size 640x480 with 1 Axes>"
      ]
     },
     "metadata": {},
     "output_type": "display_data"
    },
    {
     "data": {
      "image/png": "[encoded data removed]",
      "text/plain": [
       "<Figure size 640x480 with 1 Axes>"
      ]
     },
     "metadata": {},
     "output_type": "display_data"
    }
   ],
   "source": [
    "for c in num_cols:\n",
    "    df_extended.loc[:,[c]].boxplot()\n",
    "    plt.show()"
   ]
  },
  {
   "cell_type": "markdown",
   "metadata": {},
   "source": [
    "### Distribución DataSet original"
   ]
  },
  {
   "cell_type": "code",
   "execution_count": null,
   "metadata": {},
   "outputs": [
    {
     "data": {
      "image/png": "[encoded data removed]",
      "text/plain": [
       "<Figure size 640x480 with 1 Axes>"
      ]
     },
     "metadata": {},
     "output_type": "display_data"
    },
    {
     "data": {
      "image/png": "[encoded data removed]",
      "text/plain": [
       "<Figure size 640x480 with 1 Axes>"
      ]
     },
     "metadata": {},
     "output_type": "display_data"
    },
    {
     "data": {
      "image/png": "[encoded data removed]",
      "text/plain": [
       "<Figure size 640x480 with 1 Axes>"
      ]
     },
     "metadata": {},
     "output_type": "display_data"
    }
   ],
   "source": [
    "for c in num_cols:\n",
    "    df.loc[:,[c]].hist()\n",
    "    plt.show()"
   ]
  },
  {
   "cell_type": "markdown",
   "metadata": {},
   "source": [
    "### Distribución DataSet expandido"
   ]
  },
  {
   "cell_type": "code",
   "execution_count": null,
   "metadata": {},
   "outputs": [
    {
     "data": {
      "image/png": "[encoded data removed]",
      "text/plain": [
       "<Figure size 640x480 with 1 Axes>"
      ]
     },
     "metadata": {},
     "output_type": "display_data"
    },
    {
     "data": {
      "image/png": "[encoded data removed]",
      "text/plain": [
       "<Figure size 640x480 with 1 Axes>"
      ]
     },
     "metadata": {},
     "output_type": "display_data"
    },
    {
     "data": {
      "image/png": "[encoded data removed]",
      "text/plain": [
       "<Figure size 640x480 with 1 Axes>"
      ]
     },
     "metadata": {},
     "output_type": "display_data"
    }
   ],
   "source": [
    "for c in num_cols:\n",
    "    df_extended.loc[:,[c]].hist()\n",
    "    plt.show()"
   ]
  },
  {
   "cell_type": "markdown",
   "metadata": {},
   "source": [
    "### Conclusiones"
   ]
  },
  {
   "cell_type": "markdown",
   "metadata": {},
   "source": [
    "- La selección de un DataSet que tenía una distribución normal, nos sirvió para mantener esa normalida al momento de calcular las probabilidades que posteriormente se utilizarían en la expansión\n",
    "\n",
    "- Los datos simulados se generaron respetando las distribuciones, correlaciones y patrones del DataSet original, por lo tanto las propiedades estadísticas (media, varianza, distribución, etc.) se mantienen estables.\n",
    "\n",
    "- Se compararon las distribuciones de los datos simulados con respecto a los datos originales y observamos una correcta simulación, respetando la normalidad."
   ]
  }
 ],
 "metadata": {
  "kernelspec": {
   "display_name": "Python 3",
   "language": "python",
   "name": "python3"
  },
  "language_info": {
   "codemirror_mode": {
    "name": "ipython",
    "version": 3
   },
   "file_extension": ".py",
   "mimetype": "text/x-python",
   "name": "python",
   "nbconvert_exporter": "python",
   "pygments_lexer": "ipython3",
   "version": "3.12.4"
  }
 },
 "nbformat": 4,
 "nbformat_minor": 4
}
